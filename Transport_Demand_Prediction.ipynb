{
 "cells": [
  {
   "cell_type": "markdown",
   "id": "c1804bf7-72e6-4d00-8fb8-22455a30af5d",
   "metadata": {},
   "source": [
    "## Project Title : Traffic Jam: Predicting People's Movement into Nairobi\n",
    "Problem Description This challenge asks you to build a model that predicts the number of seats that Mobiticket can expect to sell for each ride, i.e. for a specific route on a specific date and time. There are 14 routes in this dataset. All of the routes end in Nairobi and originate in towns to the North-West of Nairobi towards Lake Victoria.\n",
    "\n",
    "The towns from which these routes originate are: Awendo\n",
    "\n",
    "** Homa Bay\n",
    "\n",
    "** Kehancha\n",
    "\n",
    "** Kendu Bay\n",
    "\n",
    "** Keroka\n",
    "\n",
    "** Keumbu\n",
    "\n",
    "** Kijauri\n",
    "\n",
    "** Kisii\n",
    "\n",
    "** Mbita\n",
    "\n",
    "** Migori\n",
    "\n",
    "** Ndhiwa\n",
    "\n",
    "** Nyachenge\n",
    "\n",
    "** Oyugis\n",
    "\n",
    "** Rodi\n",
    "\n",
    "** Rongo\n",
    "\n",
    "** Sirare\n",
    "\n",
    "** Sori\n",
    "\n",
    "The routes from these 14 origins to the first stop in the outskirts of Nairobi takes approximately 8 to 9 hours from time of departure. From the first stop in the outskirts of Nairobi into the main bus terminal, where most passengers get off, in Central Business District, takes another 2 to 3 hours depending on traffic.\n",
    "\n",
    "The three stops that all these routes make in Nairobi (in order) are: Kawangware: the first stop in the outskirts of Nairobi Westlands\n",
    "\n",
    "**Afya Centre:** the main bus terminal where most passengers disembark All of these points are mapped here. Passengers of these bus (or shuttle) rides are affected by Nairobi traffic not only during their ride into the city, but from there they must continue their journey to their final destination in Nairobi wherever that may be. Traffic can act as a deterrent for those who have the option to avoid buses that arrive in Nairobi during peak traffic hours. On the other hand, traffic may be an indication for people’s movement patterns, reflecting business hours, cultural events, political events, and holidays.\n",
    "\n",
    "Data Description Nairobi Transport Data.csv (zipped) is the dataset of tickets purchased from Mobiticket for the 14 routes from “up country” into Nairobi between 17 October 2017 and 20 April 2018. This dataset includes the variables: ride_id, seat_number, payment_method, payment_receipt, travel_date, travel_time, travel_from, travel_to, car_type, max_capacity.\n",
    "\n",
    "Uber Movement traffic data can be accessed here. Data is available for Nairobi through June 2018. Uber Movement provided historic hourly travel time between any two points in Nairobi. Any tables that are extracted from the Uber Movement platform can be used in your model.\n",
    "\n",
    "Variables description: ride_id: unique ID of a vehicle on a specific route on a specific day and time. seat_number: seat assigned to ticket\n",
    "\n",
    "payment_method: method used by customer to purchase ticket from Mobiticket (cash or Mpesa)\n",
    "\n",
    "payment_receipt: unique id number for ticket purchased from Mobiticket\n",
    "\n",
    "travel_date: date of ride departure. (MM/DD/YYYY)\n",
    "\n",
    "travel_time: scheduled departure time of ride. Rides generally depart on time. (hh:mm)\n",
    "\n",
    "travel_from: town from which ride originated\n",
    "\n",
    "travel_to: destination of ride. All rides are to Nairobi.\n",
    "\n",
    "car_type: vehicle type (shuttle or bus)\n",
    "\n",
    "max_capacity: number of seats on the vehicle"
   ]
  },
  {
   "cell_type": "markdown",
   "id": "5dc5039a-2608-4cff-a90b-ce1be692246f",
   "metadata": {},
   "source": [
    "## Importing required libraries"
   ]
  },
  {
   "cell_type": "code",
   "execution_count": 1,
   "id": "f1caf443-4bb0-4932-bd08-7caa371ef73b",
   "metadata": {},
   "outputs": [],
   "source": [
    "import numpy as np\n",
    "import pandas as pd\n",
    "import matplotlib.pyplot as plt\n",
    "import seaborn as sns\n",
    "from sklearn.metrics import mean_squared_error"
   ]
  },
  {
   "cell_type": "markdown",
   "id": "3b1cfe90-0919-44e5-9b15-a6ba1017963f",
   "metadata": {},
   "source": [
    "Mounting the drive and reading the dataset file"
   ]
  },
  {
   "cell_type": "code",
   "execution_count": 4,
   "id": "f61465a5-8e02-4d53-854f-5a4bea167303",
   "metadata": {},
   "outputs": [],
   "source": [
    "df = pd.read_csv('/home/siddhant/Documents/Transport_Demand_Prediction/train_revised.csv')"
   ]
  },
  {
   "cell_type": "markdown",
   "id": "1050e35f-dc4a-438c-a81b-b71eeb257d66",
   "metadata": {},
   "source": [
    "## Exploring the dataset"
   ]
  },
  {
   "cell_type": "code",
   "execution_count": 5,
   "id": "3cc2a533-421e-4a0d-955d-b8d4ab213007",
   "metadata": {},
   "outputs": [
    {
     "data": {
      "text/plain": [
       "(51645, 10)"
      ]
     },
     "execution_count": 5,
     "metadata": {},
     "output_type": "execute_result"
    }
   ],
   "source": [
    "df.shape"
   ]
  },
  {
   "cell_type": "code",
   "execution_count": 6,
   "id": "f13a5115-c91d-48ba-876c-347afe650c8b",
   "metadata": {},
   "outputs": [
    {
     "data": {
      "text/html": [
       "<div>\n",
       "<style scoped>\n",
       "    .dataframe tbody tr th:only-of-type {\n",
       "        vertical-align: middle;\n",
       "    }\n",
       "\n",
       "    .dataframe tbody tr th {\n",
       "        vertical-align: top;\n",
       "    }\n",
       "\n",
       "    .dataframe thead th {\n",
       "        text-align: right;\n",
       "    }\n",
       "</style>\n",
       "<table border=\"1\" class=\"dataframe\">\n",
       "  <thead>\n",
       "    <tr style=\"text-align: right;\">\n",
       "      <th></th>\n",
       "      <th>ride_id</th>\n",
       "      <th>seat_number</th>\n",
       "      <th>payment_method</th>\n",
       "      <th>payment_receipt</th>\n",
       "      <th>travel_date</th>\n",
       "      <th>travel_time</th>\n",
       "      <th>travel_from</th>\n",
       "      <th>travel_to</th>\n",
       "      <th>car_type</th>\n",
       "      <th>max_capacity</th>\n",
       "    </tr>\n",
       "  </thead>\n",
       "  <tbody>\n",
       "    <tr>\n",
       "      <th>0</th>\n",
       "      <td>1442</td>\n",
       "      <td>15A</td>\n",
       "      <td>Mpesa</td>\n",
       "      <td>UZUEHCBUSO</td>\n",
       "      <td>17-10-17</td>\n",
       "      <td>7:15</td>\n",
       "      <td>Migori</td>\n",
       "      <td>Nairobi</td>\n",
       "      <td>Bus</td>\n",
       "      <td>49</td>\n",
       "    </tr>\n",
       "    <tr>\n",
       "      <th>1</th>\n",
       "      <td>5437</td>\n",
       "      <td>14A</td>\n",
       "      <td>Mpesa</td>\n",
       "      <td>TIHLBUSGTE</td>\n",
       "      <td>19-11-17</td>\n",
       "      <td>7:12</td>\n",
       "      <td>Migori</td>\n",
       "      <td>Nairobi</td>\n",
       "      <td>Bus</td>\n",
       "      <td>49</td>\n",
       "    </tr>\n",
       "    <tr>\n",
       "      <th>2</th>\n",
       "      <td>5710</td>\n",
       "      <td>8B</td>\n",
       "      <td>Mpesa</td>\n",
       "      <td>EQX8Q5G19O</td>\n",
       "      <td>26-11-17</td>\n",
       "      <td>7:05</td>\n",
       "      <td>Keroka</td>\n",
       "      <td>Nairobi</td>\n",
       "      <td>Bus</td>\n",
       "      <td>49</td>\n",
       "    </tr>\n",
       "    <tr>\n",
       "      <th>3</th>\n",
       "      <td>5777</td>\n",
       "      <td>19A</td>\n",
       "      <td>Mpesa</td>\n",
       "      <td>SGP18CL0ME</td>\n",
       "      <td>27-11-17</td>\n",
       "      <td>7:10</td>\n",
       "      <td>Homa Bay</td>\n",
       "      <td>Nairobi</td>\n",
       "      <td>Bus</td>\n",
       "      <td>49</td>\n",
       "    </tr>\n",
       "    <tr>\n",
       "      <th>4</th>\n",
       "      <td>5778</td>\n",
       "      <td>11A</td>\n",
       "      <td>Mpesa</td>\n",
       "      <td>BM97HFRGL9</td>\n",
       "      <td>27-11-17</td>\n",
       "      <td>7:12</td>\n",
       "      <td>Migori</td>\n",
       "      <td>Nairobi</td>\n",
       "      <td>Bus</td>\n",
       "      <td>49</td>\n",
       "    </tr>\n",
       "  </tbody>\n",
       "</table>\n",
       "</div>"
      ],
      "text/plain": [
       "   ride_id seat_number payment_method payment_receipt travel_date travel_time  \\\n",
       "0     1442         15A          Mpesa      UZUEHCBUSO    17-10-17        7:15   \n",
       "1     5437         14A          Mpesa      TIHLBUSGTE    19-11-17        7:12   \n",
       "2     5710          8B          Mpesa      EQX8Q5G19O    26-11-17        7:05   \n",
       "3     5777         19A          Mpesa      SGP18CL0ME    27-11-17        7:10   \n",
       "4     5778         11A          Mpesa      BM97HFRGL9    27-11-17        7:12   \n",
       "\n",
       "  travel_from travel_to car_type  max_capacity  \n",
       "0      Migori   Nairobi      Bus            49  \n",
       "1      Migori   Nairobi      Bus            49  \n",
       "2      Keroka   Nairobi      Bus            49  \n",
       "3    Homa Bay   Nairobi      Bus            49  \n",
       "4      Migori   Nairobi      Bus            49  "
      ]
     },
     "execution_count": 6,
     "metadata": {},
     "output_type": "execute_result"
    }
   ],
   "source": [
    "df.head()"
   ]
  },
  {
   "cell_type": "code",
   "execution_count": 7,
   "id": "2bcffe14-9220-4e4a-972d-093fbf763ee8",
   "metadata": {},
   "outputs": [
    {
     "data": {
      "text/plain": [
       "ride_id            0\n",
       "seat_number        0\n",
       "payment_method     0\n",
       "payment_receipt    0\n",
       "travel_date        0\n",
       "travel_time        0\n",
       "travel_from        0\n",
       "travel_to          0\n",
       "car_type           0\n",
       "max_capacity       0\n",
       "dtype: int64"
      ]
     },
     "execution_count": 7,
     "metadata": {},
     "output_type": "execute_result"
    }
   ],
   "source": [
    "df.isnull().sum()"
   ]
  },
  {
   "cell_type": "code",
   "execution_count": 8,
   "id": "d8da9ba6-986b-411b-9bcb-31a8427722b7",
   "metadata": {},
   "outputs": [],
   "source": [
    "df.dropna(inplace=True)"
   ]
  },
  {
   "cell_type": "code",
   "execution_count": 9,
   "id": "426a51b6-632f-4536-95b1-64c3a9a0171f",
   "metadata": {},
   "outputs": [
    {
     "data": {
      "text/html": [
       "<div>\n",
       "<style scoped>\n",
       "    .dataframe tbody tr th:only-of-type {\n",
       "        vertical-align: middle;\n",
       "    }\n",
       "\n",
       "    .dataframe tbody tr th {\n",
       "        vertical-align: top;\n",
       "    }\n",
       "\n",
       "    .dataframe thead th {\n",
       "        text-align: right;\n",
       "    }\n",
       "</style>\n",
       "<table border=\"1\" class=\"dataframe\">\n",
       "  <thead>\n",
       "    <tr style=\"text-align: right;\">\n",
       "      <th></th>\n",
       "      <th>count</th>\n",
       "      <th>unique</th>\n",
       "      <th>top</th>\n",
       "      <th>freq</th>\n",
       "      <th>mean</th>\n",
       "      <th>std</th>\n",
       "      <th>min</th>\n",
       "      <th>25%</th>\n",
       "      <th>50%</th>\n",
       "      <th>75%</th>\n",
       "      <th>max</th>\n",
       "    </tr>\n",
       "  </thead>\n",
       "  <tbody>\n",
       "    <tr>\n",
       "      <th>ride_id</th>\n",
       "      <td>51645.0</td>\n",
       "      <td>NaN</td>\n",
       "      <td>NaN</td>\n",
       "      <td>NaN</td>\n",
       "      <td>10188.645793</td>\n",
       "      <td>2211.295708</td>\n",
       "      <td>1442.0</td>\n",
       "      <td>8287.0</td>\n",
       "      <td>10353.0</td>\n",
       "      <td>12029.0</td>\n",
       "      <td>20117.0</td>\n",
       "    </tr>\n",
       "    <tr>\n",
       "      <th>seat_number</th>\n",
       "      <td>51645</td>\n",
       "      <td>61</td>\n",
       "      <td>1</td>\n",
       "      <td>2065</td>\n",
       "      <td>NaN</td>\n",
       "      <td>NaN</td>\n",
       "      <td>NaN</td>\n",
       "      <td>NaN</td>\n",
       "      <td>NaN</td>\n",
       "      <td>NaN</td>\n",
       "      <td>NaN</td>\n",
       "    </tr>\n",
       "    <tr>\n",
       "      <th>payment_method</th>\n",
       "      <td>51645</td>\n",
       "      <td>2</td>\n",
       "      <td>Mpesa</td>\n",
       "      <td>51532</td>\n",
       "      <td>NaN</td>\n",
       "      <td>NaN</td>\n",
       "      <td>NaN</td>\n",
       "      <td>NaN</td>\n",
       "      <td>NaN</td>\n",
       "      <td>NaN</td>\n",
       "      <td>NaN</td>\n",
       "    </tr>\n",
       "    <tr>\n",
       "      <th>payment_receipt</th>\n",
       "      <td>51645</td>\n",
       "      <td>51645</td>\n",
       "      <td>UZUEHCBUSO</td>\n",
       "      <td>1</td>\n",
       "      <td>NaN</td>\n",
       "      <td>NaN</td>\n",
       "      <td>NaN</td>\n",
       "      <td>NaN</td>\n",
       "      <td>NaN</td>\n",
       "      <td>NaN</td>\n",
       "      <td>NaN</td>\n",
       "    </tr>\n",
       "    <tr>\n",
       "      <th>travel_date</th>\n",
       "      <td>51645</td>\n",
       "      <td>149</td>\n",
       "      <td>10-12-17</td>\n",
       "      <td>856</td>\n",
       "      <td>NaN</td>\n",
       "      <td>NaN</td>\n",
       "      <td>NaN</td>\n",
       "      <td>NaN</td>\n",
       "      <td>NaN</td>\n",
       "      <td>NaN</td>\n",
       "      <td>NaN</td>\n",
       "    </tr>\n",
       "    <tr>\n",
       "      <th>travel_time</th>\n",
       "      <td>51645</td>\n",
       "      <td>78</td>\n",
       "      <td>7:09</td>\n",
       "      <td>3926</td>\n",
       "      <td>NaN</td>\n",
       "      <td>NaN</td>\n",
       "      <td>NaN</td>\n",
       "      <td>NaN</td>\n",
       "      <td>NaN</td>\n",
       "      <td>NaN</td>\n",
       "      <td>NaN</td>\n",
       "    </tr>\n",
       "    <tr>\n",
       "      <th>travel_from</th>\n",
       "      <td>51645</td>\n",
       "      <td>17</td>\n",
       "      <td>Kisii</td>\n",
       "      <td>22607</td>\n",
       "      <td>NaN</td>\n",
       "      <td>NaN</td>\n",
       "      <td>NaN</td>\n",
       "      <td>NaN</td>\n",
       "      <td>NaN</td>\n",
       "      <td>NaN</td>\n",
       "      <td>NaN</td>\n",
       "    </tr>\n",
       "    <tr>\n",
       "      <th>travel_to</th>\n",
       "      <td>51645</td>\n",
       "      <td>1</td>\n",
       "      <td>Nairobi</td>\n",
       "      <td>51645</td>\n",
       "      <td>NaN</td>\n",
       "      <td>NaN</td>\n",
       "      <td>NaN</td>\n",
       "      <td>NaN</td>\n",
       "      <td>NaN</td>\n",
       "      <td>NaN</td>\n",
       "      <td>NaN</td>\n",
       "    </tr>\n",
       "    <tr>\n",
       "      <th>car_type</th>\n",
       "      <td>51645</td>\n",
       "      <td>2</td>\n",
       "      <td>Bus</td>\n",
       "      <td>31985</td>\n",
       "      <td>NaN</td>\n",
       "      <td>NaN</td>\n",
       "      <td>NaN</td>\n",
       "      <td>NaN</td>\n",
       "      <td>NaN</td>\n",
       "      <td>NaN</td>\n",
       "      <td>NaN</td>\n",
       "    </tr>\n",
       "    <tr>\n",
       "      <th>max_capacity</th>\n",
       "      <td>51645.0</td>\n",
       "      <td>NaN</td>\n",
       "      <td>NaN</td>\n",
       "      <td>NaN</td>\n",
       "      <td>34.534321</td>\n",
       "      <td>18.451193</td>\n",
       "      <td>11.0</td>\n",
       "      <td>11.0</td>\n",
       "      <td>49.0</td>\n",
       "      <td>49.0</td>\n",
       "      <td>49.0</td>\n",
       "    </tr>\n",
       "  </tbody>\n",
       "</table>\n",
       "</div>"
      ],
      "text/plain": [
       "                   count unique         top   freq          mean          std  \\\n",
       "ride_id          51645.0    NaN         NaN    NaN  10188.645793  2211.295708   \n",
       "seat_number        51645     61           1   2065           NaN          NaN   \n",
       "payment_method     51645      2       Mpesa  51532           NaN          NaN   \n",
       "payment_receipt    51645  51645  UZUEHCBUSO      1           NaN          NaN   \n",
       "travel_date        51645    149    10-12-17    856           NaN          NaN   \n",
       "travel_time        51645     78        7:09   3926           NaN          NaN   \n",
       "travel_from        51645     17       Kisii  22607           NaN          NaN   \n",
       "travel_to          51645      1     Nairobi  51645           NaN          NaN   \n",
       "car_type           51645      2         Bus  31985           NaN          NaN   \n",
       "max_capacity     51645.0    NaN         NaN    NaN     34.534321    18.451193   \n",
       "\n",
       "                    min     25%      50%      75%      max  \n",
       "ride_id          1442.0  8287.0  10353.0  12029.0  20117.0  \n",
       "seat_number         NaN     NaN      NaN      NaN      NaN  \n",
       "payment_method      NaN     NaN      NaN      NaN      NaN  \n",
       "payment_receipt     NaN     NaN      NaN      NaN      NaN  \n",
       "travel_date         NaN     NaN      NaN      NaN      NaN  \n",
       "travel_time         NaN     NaN      NaN      NaN      NaN  \n",
       "travel_from         NaN     NaN      NaN      NaN      NaN  \n",
       "travel_to           NaN     NaN      NaN      NaN      NaN  \n",
       "car_type            NaN     NaN      NaN      NaN      NaN  \n",
       "max_capacity       11.0    11.0     49.0     49.0     49.0  "
      ]
     },
     "execution_count": 9,
     "metadata": {},
     "output_type": "execute_result"
    }
   ],
   "source": [
    "df.describe(include='all').T"
   ]
  },
  {
   "cell_type": "markdown",
   "id": "4522d23e-d87e-44f8-ae23-49101c61a30f",
   "metadata": {},
   "source": [
    "## Finding the target variable\n",
    "Since Target Variable not available we'll find the target variable by grouping the data to get the numbere of ticket booked as per ride_id"
   ]
  },
  {
   "cell_type": "code",
   "execution_count": 10,
   "id": "61d2847f-6e93-4d26-be4c-660889b8933f",
   "metadata": {},
   "outputs": [
    {
     "data": {
      "text/html": [
       "<div>\n",
       "<style scoped>\n",
       "    .dataframe tbody tr th:only-of-type {\n",
       "        vertical-align: middle;\n",
       "    }\n",
       "\n",
       "    .dataframe tbody tr th {\n",
       "        vertical-align: top;\n",
       "    }\n",
       "\n",
       "    .dataframe thead th {\n",
       "        text-align: right;\n",
       "    }\n",
       "</style>\n",
       "<table border=\"1\" class=\"dataframe\">\n",
       "  <thead>\n",
       "    <tr style=\"text-align: right;\">\n",
       "      <th></th>\n",
       "      <th>ride_id</th>\n",
       "      <th>Number_of_ticket</th>\n",
       "    </tr>\n",
       "  </thead>\n",
       "  <tbody>\n",
       "    <tr>\n",
       "      <th>0</th>\n",
       "      <td>1442</td>\n",
       "      <td>1</td>\n",
       "    </tr>\n",
       "    <tr>\n",
       "      <th>1</th>\n",
       "      <td>5437</td>\n",
       "      <td>1</td>\n",
       "    </tr>\n",
       "    <tr>\n",
       "      <th>2</th>\n",
       "      <td>5710</td>\n",
       "      <td>1</td>\n",
       "    </tr>\n",
       "    <tr>\n",
       "      <th>3</th>\n",
       "      <td>5777</td>\n",
       "      <td>5</td>\n",
       "    </tr>\n",
       "    <tr>\n",
       "      <th>4</th>\n",
       "      <td>5778</td>\n",
       "      <td>31</td>\n",
       "    </tr>\n",
       "    <tr>\n",
       "      <th>...</th>\n",
       "      <td>...</td>\n",
       "      <td>...</td>\n",
       "    </tr>\n",
       "    <tr>\n",
       "      <th>6244</th>\n",
       "      <td>20113</td>\n",
       "      <td>9</td>\n",
       "    </tr>\n",
       "    <tr>\n",
       "      <th>6245</th>\n",
       "      <td>20114</td>\n",
       "      <td>4</td>\n",
       "    </tr>\n",
       "    <tr>\n",
       "      <th>6246</th>\n",
       "      <td>20115</td>\n",
       "      <td>5</td>\n",
       "    </tr>\n",
       "    <tr>\n",
       "      <th>6247</th>\n",
       "      <td>20116</td>\n",
       "      <td>1</td>\n",
       "    </tr>\n",
       "    <tr>\n",
       "      <th>6248</th>\n",
       "      <td>20117</td>\n",
       "      <td>1</td>\n",
       "    </tr>\n",
       "  </tbody>\n",
       "</table>\n",
       "<p>6249 rows × 2 columns</p>\n",
       "</div>"
      ],
      "text/plain": [
       "      ride_id  Number_of_ticket\n",
       "0        1442                 1\n",
       "1        5437                 1\n",
       "2        5710                 1\n",
       "3        5777                 5\n",
       "4        5778                31\n",
       "...       ...               ...\n",
       "6244    20113                 9\n",
       "6245    20114                 4\n",
       "6246    20115                 5\n",
       "6247    20116                 1\n",
       "6248    20117                 1\n",
       "\n",
       "[6249 rows x 2 columns]"
      ]
     },
     "execution_count": 10,
     "metadata": {},
     "output_type": "execute_result"
    }
   ],
   "source": [
    "# featching Dependent variable as it is not given.\n",
    "temp_df=df.groupby(['ride_id']).ride_id.count().rename('Number_of_ticket').reset_index()\n",
    "temp_df"
   ]
  },
  {
   "cell_type": "code",
   "execution_count": 11,
   "id": "cd18da38-1e66-418b-9236-f65381253e75",
   "metadata": {},
   "outputs": [
    {
     "data": {
      "text/html": [
       "<div>\n",
       "<style scoped>\n",
       "    .dataframe tbody tr th:only-of-type {\n",
       "        vertical-align: middle;\n",
       "    }\n",
       "\n",
       "    .dataframe tbody tr th {\n",
       "        vertical-align: top;\n",
       "    }\n",
       "\n",
       "    .dataframe thead th {\n",
       "        text-align: right;\n",
       "    }\n",
       "</style>\n",
       "<table border=\"1\" class=\"dataframe\">\n",
       "  <thead>\n",
       "    <tr style=\"text-align: right;\">\n",
       "      <th></th>\n",
       "      <th>ride_id</th>\n",
       "      <th>seat_number</th>\n",
       "      <th>payment_method</th>\n",
       "      <th>payment_receipt</th>\n",
       "      <th>travel_date</th>\n",
       "      <th>travel_time</th>\n",
       "      <th>travel_from</th>\n",
       "      <th>travel_to</th>\n",
       "      <th>car_type</th>\n",
       "      <th>max_capacity</th>\n",
       "      <th>Number_of_ticket</th>\n",
       "    </tr>\n",
       "  </thead>\n",
       "  <tbody>\n",
       "    <tr>\n",
       "      <th>0</th>\n",
       "      <td>1442</td>\n",
       "      <td>15A</td>\n",
       "      <td>Mpesa</td>\n",
       "      <td>UZUEHCBUSO</td>\n",
       "      <td>17-10-17</td>\n",
       "      <td>7:15</td>\n",
       "      <td>Migori</td>\n",
       "      <td>Nairobi</td>\n",
       "      <td>Bus</td>\n",
       "      <td>49</td>\n",
       "      <td>1</td>\n",
       "    </tr>\n",
       "    <tr>\n",
       "      <th>1</th>\n",
       "      <td>5437</td>\n",
       "      <td>14A</td>\n",
       "      <td>Mpesa</td>\n",
       "      <td>TIHLBUSGTE</td>\n",
       "      <td>19-11-17</td>\n",
       "      <td>7:12</td>\n",
       "      <td>Migori</td>\n",
       "      <td>Nairobi</td>\n",
       "      <td>Bus</td>\n",
       "      <td>49</td>\n",
       "      <td>1</td>\n",
       "    </tr>\n",
       "    <tr>\n",
       "      <th>2</th>\n",
       "      <td>5710</td>\n",
       "      <td>8B</td>\n",
       "      <td>Mpesa</td>\n",
       "      <td>EQX8Q5G19O</td>\n",
       "      <td>26-11-17</td>\n",
       "      <td>7:05</td>\n",
       "      <td>Keroka</td>\n",
       "      <td>Nairobi</td>\n",
       "      <td>Bus</td>\n",
       "      <td>49</td>\n",
       "      <td>1</td>\n",
       "    </tr>\n",
       "    <tr>\n",
       "      <th>3</th>\n",
       "      <td>5777</td>\n",
       "      <td>19A</td>\n",
       "      <td>Mpesa</td>\n",
       "      <td>SGP18CL0ME</td>\n",
       "      <td>27-11-17</td>\n",
       "      <td>7:10</td>\n",
       "      <td>Homa Bay</td>\n",
       "      <td>Nairobi</td>\n",
       "      <td>Bus</td>\n",
       "      <td>49</td>\n",
       "      <td>5</td>\n",
       "    </tr>\n",
       "    <tr>\n",
       "      <th>4</th>\n",
       "      <td>5778</td>\n",
       "      <td>11A</td>\n",
       "      <td>Mpesa</td>\n",
       "      <td>BM97HFRGL9</td>\n",
       "      <td>27-11-17</td>\n",
       "      <td>7:12</td>\n",
       "      <td>Migori</td>\n",
       "      <td>Nairobi</td>\n",
       "      <td>Bus</td>\n",
       "      <td>49</td>\n",
       "      <td>31</td>\n",
       "    </tr>\n",
       "    <tr>\n",
       "      <th>...</th>\n",
       "      <td>...</td>\n",
       "      <td>...</td>\n",
       "      <td>...</td>\n",
       "      <td>...</td>\n",
       "      <td>...</td>\n",
       "      <td>...</td>\n",
       "      <td>...</td>\n",
       "      <td>...</td>\n",
       "      <td>...</td>\n",
       "      <td>...</td>\n",
       "      <td>...</td>\n",
       "    </tr>\n",
       "    <tr>\n",
       "      <th>51640</th>\n",
       "      <td>13826</td>\n",
       "      <td>9B</td>\n",
       "      <td>Mpesa</td>\n",
       "      <td>8V2XDDZR6V</td>\n",
       "      <td>20-04-18</td>\n",
       "      <td>8:00</td>\n",
       "      <td>Awendo</td>\n",
       "      <td>Nairobi</td>\n",
       "      <td>Bus</td>\n",
       "      <td>49</td>\n",
       "      <td>1</td>\n",
       "    </tr>\n",
       "    <tr>\n",
       "      <th>51641</th>\n",
       "      <td>13809</td>\n",
       "      <td>18A</td>\n",
       "      <td>Mpesa</td>\n",
       "      <td>4PEBSVJSNK</td>\n",
       "      <td>20-04-18</td>\n",
       "      <td>8:00</td>\n",
       "      <td>Migori</td>\n",
       "      <td>Nairobi</td>\n",
       "      <td>Bus</td>\n",
       "      <td>49</td>\n",
       "      <td>29</td>\n",
       "    </tr>\n",
       "    <tr>\n",
       "      <th>51642</th>\n",
       "      <td>13809</td>\n",
       "      <td>17A</td>\n",
       "      <td>Mpesa</td>\n",
       "      <td>LVN64LZDNN</td>\n",
       "      <td>20-04-18</td>\n",
       "      <td>8:00</td>\n",
       "      <td>Migori</td>\n",
       "      <td>Nairobi</td>\n",
       "      <td>Bus</td>\n",
       "      <td>49</td>\n",
       "      <td>29</td>\n",
       "    </tr>\n",
       "    <tr>\n",
       "      <th>51643</th>\n",
       "      <td>13796</td>\n",
       "      <td>16B</td>\n",
       "      <td>Mpesa</td>\n",
       "      <td>REYBSKTYWN</td>\n",
       "      <td>20-04-18</td>\n",
       "      <td>7:08</td>\n",
       "      <td>Awendo</td>\n",
       "      <td>Nairobi</td>\n",
       "      <td>Bus</td>\n",
       "      <td>49</td>\n",
       "      <td>27</td>\n",
       "    </tr>\n",
       "    <tr>\n",
       "      <th>51644</th>\n",
       "      <td>14304</td>\n",
       "      <td>7</td>\n",
       "      <td>Mpesa</td>\n",
       "      <td>AQN7FBUSGP</td>\n",
       "      <td>14-11-17</td>\n",
       "      <td>5:10</td>\n",
       "      <td>Kisii</td>\n",
       "      <td>Nairobi</td>\n",
       "      <td>Bus</td>\n",
       "      <td>49</td>\n",
       "      <td>1</td>\n",
       "    </tr>\n",
       "  </tbody>\n",
       "</table>\n",
       "<p>51645 rows × 11 columns</p>\n",
       "</div>"
      ],
      "text/plain": [
       "       ride_id seat_number payment_method payment_receipt travel_date  \\\n",
       "0         1442         15A          Mpesa      UZUEHCBUSO    17-10-17   \n",
       "1         5437         14A          Mpesa      TIHLBUSGTE    19-11-17   \n",
       "2         5710          8B          Mpesa      EQX8Q5G19O    26-11-17   \n",
       "3         5777         19A          Mpesa      SGP18CL0ME    27-11-17   \n",
       "4         5778         11A          Mpesa      BM97HFRGL9    27-11-17   \n",
       "...        ...         ...            ...             ...         ...   \n",
       "51640    13826          9B          Mpesa      8V2XDDZR6V    20-04-18   \n",
       "51641    13809         18A          Mpesa      4PEBSVJSNK    20-04-18   \n",
       "51642    13809         17A          Mpesa      LVN64LZDNN    20-04-18   \n",
       "51643    13796         16B          Mpesa      REYBSKTYWN    20-04-18   \n",
       "51644    14304           7          Mpesa      AQN7FBUSGP    14-11-17   \n",
       "\n",
       "      travel_time travel_from travel_to car_type  max_capacity  \\\n",
       "0            7:15      Migori   Nairobi      Bus            49   \n",
       "1            7:12      Migori   Nairobi      Bus            49   \n",
       "2            7:05      Keroka   Nairobi      Bus            49   \n",
       "3            7:10    Homa Bay   Nairobi      Bus            49   \n",
       "4            7:12      Migori   Nairobi      Bus            49   \n",
       "...           ...         ...       ...      ...           ...   \n",
       "51640        8:00      Awendo   Nairobi      Bus            49   \n",
       "51641        8:00      Migori   Nairobi      Bus            49   \n",
       "51642        8:00      Migori   Nairobi      Bus            49   \n",
       "51643        7:08      Awendo   Nairobi      Bus            49   \n",
       "51644        5:10       Kisii   Nairobi      Bus            49   \n",
       "\n",
       "       Number_of_ticket  \n",
       "0                     1  \n",
       "1                     1  \n",
       "2                     1  \n",
       "3                     5  \n",
       "4                    31  \n",
       "...                 ...  \n",
       "51640                 1  \n",
       "51641                29  \n",
       "51642                29  \n",
       "51643                27  \n",
       "51644                 1  \n",
       "\n",
       "[51645 rows x 11 columns]"
      ]
     },
     "execution_count": 11,
     "metadata": {},
     "output_type": "execute_result"
    }
   ],
   "source": [
    "#Since we get the dependent variable. Now we will merge it with the original data.\n",
    "df=df.merge(temp_df,how='left',on='ride_id')\n",
    "df"
   ]
  },
  {
   "cell_type": "code",
   "execution_count": 12,
   "id": "e8be7256-915c-4f8d-bafd-7648b9113cac",
   "metadata": {},
   "outputs": [
    {
     "data": {
      "text/plain": [
       "Index(['ride_id', 'seat_number', 'payment_method', 'payment_receipt',\n",
       "       'travel_date', 'travel_time', 'travel_from', 'travel_to', 'car_type',\n",
       "       'max_capacity', 'Number_of_ticket'],\n",
       "      dtype='object')"
      ]
     },
     "execution_count": 12,
     "metadata": {},
     "output_type": "execute_result"
    }
   ],
   "source": [
    "df.columns"
   ]
  },
  {
   "cell_type": "code",
   "execution_count": 13,
   "id": "63c201bf-0d85-43d0-b0b1-db0148916786",
   "metadata": {},
   "outputs": [],
   "source": [
    "# Dropping the attribute that are not sinificant for predicting the Number_of_ticket\n",
    "df.drop(['seat_number','payment_method','payment_receipt','travel_to'],axis=1,inplace=True)"
   ]
  },
  {
   "cell_type": "code",
   "execution_count": 14,
   "id": "d89fdf9c-02b1-4605-925c-245811249c94",
   "metadata": {},
   "outputs": [],
   "source": [
    "df['date_and_time']=df['travel_date']+\" \"+df['travel_time']"
   ]
  },
  {
   "cell_type": "code",
   "execution_count": 15,
   "id": "10e72ed7-70b9-41e6-8c8a-e75d6759a7c3",
   "metadata": {},
   "outputs": [],
   "source": [
    "# formating data to pandas Date and time.\n",
    "df['date_and_time']=pd.to_datetime(df['date_and_time'])"
   ]
  },
  {
   "cell_type": "code",
   "execution_count": 16,
   "id": "302c4525-90d1-4fb1-83b9-14b1ecff193d",
   "metadata": {},
   "outputs": [
    {
     "data": {
      "text/plain": [
       "Timestamp('2018-11-03 10:50:00')"
      ]
     },
     "execution_count": 16,
     "metadata": {},
     "output_type": "execute_result"
    }
   ],
   "source": [
    "df.date_and_time[2006]"
   ]
  },
  {
   "cell_type": "code",
   "execution_count": 17,
   "id": "69c67439-6cd0-4d90-bdd6-d23b08cc327f",
   "metadata": {},
   "outputs": [
    {
     "data": {
      "text/html": [
       "<div>\n",
       "<style scoped>\n",
       "    .dataframe tbody tr th:only-of-type {\n",
       "        vertical-align: middle;\n",
       "    }\n",
       "\n",
       "    .dataframe tbody tr th {\n",
       "        vertical-align: top;\n",
       "    }\n",
       "\n",
       "    .dataframe thead th {\n",
       "        text-align: right;\n",
       "    }\n",
       "</style>\n",
       "<table border=\"1\" class=\"dataframe\">\n",
       "  <thead>\n",
       "    <tr style=\"text-align: right;\">\n",
       "      <th></th>\n",
       "      <th>ride_id</th>\n",
       "      <th>travel_date</th>\n",
       "      <th>travel_time</th>\n",
       "      <th>travel_from</th>\n",
       "      <th>car_type</th>\n",
       "      <th>max_capacity</th>\n",
       "      <th>Number_of_ticket</th>\n",
       "      <th>date_and_time</th>\n",
       "    </tr>\n",
       "  </thead>\n",
       "  <tbody>\n",
       "    <tr>\n",
       "      <th>0</th>\n",
       "      <td>1442</td>\n",
       "      <td>17-10-17</td>\n",
       "      <td>7:15</td>\n",
       "      <td>Migori</td>\n",
       "      <td>Bus</td>\n",
       "      <td>49</td>\n",
       "      <td>1</td>\n",
       "      <td>2017-10-17 07:15:00</td>\n",
       "    </tr>\n",
       "    <tr>\n",
       "      <th>1</th>\n",
       "      <td>5437</td>\n",
       "      <td>19-11-17</td>\n",
       "      <td>7:12</td>\n",
       "      <td>Migori</td>\n",
       "      <td>Bus</td>\n",
       "      <td>49</td>\n",
       "      <td>1</td>\n",
       "      <td>2017-11-19 07:12:00</td>\n",
       "    </tr>\n",
       "    <tr>\n",
       "      <th>2</th>\n",
       "      <td>5710</td>\n",
       "      <td>26-11-17</td>\n",
       "      <td>7:05</td>\n",
       "      <td>Keroka</td>\n",
       "      <td>Bus</td>\n",
       "      <td>49</td>\n",
       "      <td>1</td>\n",
       "      <td>2017-11-26 07:05:00</td>\n",
       "    </tr>\n",
       "    <tr>\n",
       "      <th>3</th>\n",
       "      <td>5777</td>\n",
       "      <td>27-11-17</td>\n",
       "      <td>7:10</td>\n",
       "      <td>Homa Bay</td>\n",
       "      <td>Bus</td>\n",
       "      <td>49</td>\n",
       "      <td>5</td>\n",
       "      <td>2017-11-27 07:10:00</td>\n",
       "    </tr>\n",
       "    <tr>\n",
       "      <th>4</th>\n",
       "      <td>5778</td>\n",
       "      <td>27-11-17</td>\n",
       "      <td>7:12</td>\n",
       "      <td>Migori</td>\n",
       "      <td>Bus</td>\n",
       "      <td>49</td>\n",
       "      <td>31</td>\n",
       "      <td>2017-11-27 07:12:00</td>\n",
       "    </tr>\n",
       "    <tr>\n",
       "      <th>...</th>\n",
       "      <td>...</td>\n",
       "      <td>...</td>\n",
       "      <td>...</td>\n",
       "      <td>...</td>\n",
       "      <td>...</td>\n",
       "      <td>...</td>\n",
       "      <td>...</td>\n",
       "      <td>...</td>\n",
       "    </tr>\n",
       "    <tr>\n",
       "      <th>51640</th>\n",
       "      <td>13826</td>\n",
       "      <td>20-04-18</td>\n",
       "      <td>8:00</td>\n",
       "      <td>Awendo</td>\n",
       "      <td>Bus</td>\n",
       "      <td>49</td>\n",
       "      <td>1</td>\n",
       "      <td>2018-04-20 08:00:00</td>\n",
       "    </tr>\n",
       "    <tr>\n",
       "      <th>51641</th>\n",
       "      <td>13809</td>\n",
       "      <td>20-04-18</td>\n",
       "      <td>8:00</td>\n",
       "      <td>Migori</td>\n",
       "      <td>Bus</td>\n",
       "      <td>49</td>\n",
       "      <td>29</td>\n",
       "      <td>2018-04-20 08:00:00</td>\n",
       "    </tr>\n",
       "    <tr>\n",
       "      <th>51642</th>\n",
       "      <td>13809</td>\n",
       "      <td>20-04-18</td>\n",
       "      <td>8:00</td>\n",
       "      <td>Migori</td>\n",
       "      <td>Bus</td>\n",
       "      <td>49</td>\n",
       "      <td>29</td>\n",
       "      <td>2018-04-20 08:00:00</td>\n",
       "    </tr>\n",
       "    <tr>\n",
       "      <th>51643</th>\n",
       "      <td>13796</td>\n",
       "      <td>20-04-18</td>\n",
       "      <td>7:08</td>\n",
       "      <td>Awendo</td>\n",
       "      <td>Bus</td>\n",
       "      <td>49</td>\n",
       "      <td>27</td>\n",
       "      <td>2018-04-20 07:08:00</td>\n",
       "    </tr>\n",
       "    <tr>\n",
       "      <th>51644</th>\n",
       "      <td>14304</td>\n",
       "      <td>14-11-17</td>\n",
       "      <td>5:10</td>\n",
       "      <td>Kisii</td>\n",
       "      <td>Bus</td>\n",
       "      <td>49</td>\n",
       "      <td>1</td>\n",
       "      <td>2017-11-14 05:10:00</td>\n",
       "    </tr>\n",
       "  </tbody>\n",
       "</table>\n",
       "<p>51645 rows × 8 columns</p>\n",
       "</div>"
      ],
      "text/plain": [
       "       ride_id travel_date travel_time travel_from car_type  max_capacity  \\\n",
       "0         1442    17-10-17        7:15      Migori      Bus            49   \n",
       "1         5437    19-11-17        7:12      Migori      Bus            49   \n",
       "2         5710    26-11-17        7:05      Keroka      Bus            49   \n",
       "3         5777    27-11-17        7:10    Homa Bay      Bus            49   \n",
       "4         5778    27-11-17        7:12      Migori      Bus            49   \n",
       "...        ...         ...         ...         ...      ...           ...   \n",
       "51640    13826    20-04-18        8:00      Awendo      Bus            49   \n",
       "51641    13809    20-04-18        8:00      Migori      Bus            49   \n",
       "51642    13809    20-04-18        8:00      Migori      Bus            49   \n",
       "51643    13796    20-04-18        7:08      Awendo      Bus            49   \n",
       "51644    14304    14-11-17        5:10       Kisii      Bus            49   \n",
       "\n",
       "       Number_of_ticket       date_and_time  \n",
       "0                     1 2017-10-17 07:15:00  \n",
       "1                     1 2017-11-19 07:12:00  \n",
       "2                     1 2017-11-26 07:05:00  \n",
       "3                     5 2017-11-27 07:10:00  \n",
       "4                    31 2017-11-27 07:12:00  \n",
       "...                 ...                 ...  \n",
       "51640                 1 2018-04-20 08:00:00  \n",
       "51641                29 2018-04-20 08:00:00  \n",
       "51642                29 2018-04-20 08:00:00  \n",
       "51643                27 2018-04-20 07:08:00  \n",
       "51644                 1 2017-11-14 05:10:00  \n",
       "\n",
       "[51645 rows x 8 columns]"
      ]
     },
     "execution_count": 17,
     "metadata": {},
     "output_type": "execute_result"
    }
   ],
   "source": [
    "df"
   ]
  },
  {
   "cell_type": "markdown",
   "id": "46018673-5658-43dd-96e1-689c610e072f",
   "metadata": {},
   "source": [
    "Exploratory Data Analysis"
   ]
  },
  {
   "cell_type": "code",
   "execution_count": 19,
   "id": "6954ad69-5c8c-47c6-9f64-90b38c316b07",
   "metadata": {},
   "outputs": [
    {
     "name": "stderr",
     "output_type": "stream",
     "text": [
      "/home/siddhant/anaconda3/lib/python3.9/site-packages/seaborn/distributions.py:2619: FutureWarning: `distplot` is a deprecated function and will be removed in a future version. Please adapt your code to use either `displot` (a figure-level function with similar flexibility) or `histplot` (an axes-level function for histograms).\n",
      "  warnings.warn(msg, FutureWarning)\n"
     ]
    },
    {
     "data": {
      "text/plain": [
       "<AxesSubplot:xlabel='Number_of_ticket', ylabel='Density'>"
      ]
     },
     "execution_count": 19,
     "metadata": {},
     "output_type": "execute_result"
    },
    {
     "data": {
      "image/png": "[encoded data removed]",
      "text/plain": [
       "<Figure size 720x576 with 1 Axes>"
      ]
     },
     "metadata": {
      "needs_background": "light"
     },
     "output_type": "display_data"
    }
   ],
   "source": [
    "plt.figure(figsize=(10,8))\n",
    "sns.distplot(df['Number_of_ticket'],color='y')"
   ]
  },
  {
   "cell_type": "code",
   "execution_count": 20,
   "id": "ea47aa5f-9ac2-4a68-a8dd-b5c8062def01",
   "metadata": {},
   "outputs": [
    {
     "data": {
      "text/plain": [
       "(array([ 0,  1,  2,  3,  4,  5,  6,  7,  8,  9, 10, 11, 12, 13, 14, 15, 16,\n",
       "        17, 18, 19, 20, 21, 22, 23, 24, 25, 26, 27, 28, 29, 30, 31, 32, 33,\n",
       "        34, 35, 36, 37, 38, 39, 40, 41, 42, 43, 44, 45, 46, 47, 48, 49, 50,\n",
       "        51, 52, 53, 54, 55, 56, 57, 58, 59, 60, 61, 62, 63, 64, 65, 66, 67,\n",
       "        68, 69, 70, 71, 72, 73, 74, 75, 76, 77]),\n",
       " [Text(0, 0, '7:15'),\n",
       "  Text(1, 0, '7:12'),\n",
       "  Text(2, 0, '7:05'),\n",
       "  Text(3, 0, '7:10'),\n",
       "  Text(4, 0, '7:09'),\n",
       "  Text(5, 0, '5:10'),\n",
       "  Text(6, 0, '9:50'),\n",
       "  Text(7, 0, '7:06'),\n",
       "  Text(8, 0, '6:00'),\n",
       "  Text(9, 0, '5:50'),\n",
       "  Text(10, 0, '10:58'),\n",
       "  Text(11, 0, '6:50'),\n",
       "  Text(12, 0, '5:30'),\n",
       "  Text(13, 0, '6:40'),\n",
       "  Text(14, 0, '9:10'),\n",
       "  Text(15, 0, '5:00'),\n",
       "  Text(16, 0, '5:20'),\n",
       "  Text(17, 0, '10:52'),\n",
       "  Text(18, 0, '10:50'),\n",
       "  Text(19, 0, '10:51'),\n",
       "  Text(20, 0, '8:20'),\n",
       "  Text(21, 0, '19:03'),\n",
       "  Text(22, 0, '7:02'),\n",
       "  Text(23, 0, '6:30'),\n",
       "  Text(24, 0, '7:20'),\n",
       "  Text(25, 0, '7:04'),\n",
       "  Text(26, 0, '19:05'),\n",
       "  Text(27, 0, '19:04'),\n",
       "  Text(28, 0, '6:59'),\n",
       "  Text(29, 0, '7:08'),\n",
       "  Text(30, 0, '5:40'),\n",
       "  Text(31, 0, '9:00'),\n",
       "  Text(32, 0, '7:14'),\n",
       "  Text(33, 0, '7:07'),\n",
       "  Text(34, 0, '8:00'),\n",
       "  Text(35, 0, '7:30'),\n",
       "  Text(36, 0, '10:57'),\n",
       "  Text(37, 0, '8:30'),\n",
       "  Text(38, 0, '11:01'),\n",
       "  Text(39, 0, '7:11'),\n",
       "  Text(40, 0, '7:03'),\n",
       "  Text(41, 0, '6:58'),\n",
       "  Text(42, 0, '11:05'),\n",
       "  Text(43, 0, '10:20'),\n",
       "  Text(44, 0, '10:53'),\n",
       "  Text(45, 0, '10:00'),\n",
       "  Text(46, 0, '8:50'),\n",
       "  Text(47, 0, '10:54'),\n",
       "  Text(48, 0, '7:01'),\n",
       "  Text(49, 0, '7:00'),\n",
       "  Text(50, 0, '6:10'),\n",
       "  Text(51, 0, '6:20'),\n",
       "  Text(52, 0, '10:10'),\n",
       "  Text(53, 0, '11:02'),\n",
       "  Text(54, 0, '9:40'),\n",
       "  Text(55, 0, '9:30'),\n",
       "  Text(56, 0, '7:50'),\n",
       "  Text(57, 0, '10:56'),\n",
       "  Text(58, 0, '10:55'),\n",
       "  Text(59, 0, '10:40'),\n",
       "  Text(60, 0, '10:30'),\n",
       "  Text(61, 0, '9:20'),\n",
       "  Text(62, 0, '8:40'),\n",
       "  Text(63, 0, '8:10'),\n",
       "  Text(64, 0, '7:40'),\n",
       "  Text(65, 0, '7:13'),\n",
       "  Text(66, 0, '11:00'),\n",
       "  Text(67, 0, '11:04'),\n",
       "  Text(68, 0, '19:06'),\n",
       "  Text(69, 0, '10:59'),\n",
       "  Text(70, 0, '11:07'),\n",
       "  Text(71, 0, '11:06'),\n",
       "  Text(72, 0, '11:03'),\n",
       "  Text(73, 0, '19:07'),\n",
       "  Text(74, 0, '11:08'),\n",
       "  Text(75, 0, '11:09'),\n",
       "  Text(76, 0, '23:09'),\n",
       "  Text(77, 0, '23:10')])"
      ]
     },
     "execution_count": 20,
     "metadata": {},
     "output_type": "execute_result"
    },
    {
     "data": {
      "image/png": "[encoded data removed]",
      "text/plain": [
       "<Figure size 720x504 with 1 Axes>"
      ]
     },
     "metadata": {
      "needs_background": "light"
     },
     "output_type": "display_data"
    }
   ],
   "source": [
    "fig=plt.figure(figsize=(10,7))\n",
    "ax=fig.gca()\n",
    "sns.barplot(data=df,x='travel_time',y='Number_of_ticket',ax=ax)\n",
    "sns.set_theme(style='darkgrid')\n",
    "plt.xticks(rotation=90)"
   ]
  },
  {
   "cell_type": "code",
   "execution_count": 21,
   "id": "1711cbb7-3091-4d3f-bad3-c2e17fba78df",
   "metadata": {},
   "outputs": [
    {
     "data": {
      "text/plain": [
       "(array([ 0,  1,  2,  3,  4,  5,  6,  7,  8,  9, 10, 11, 12, 13, 14, 15, 16]),\n",
       " [Text(0, 0, 'Migori'),\n",
       "  Text(1, 0, 'Keroka'),\n",
       "  Text(2, 0, 'Homa Bay'),\n",
       "  Text(3, 0, 'Kisii'),\n",
       "  Text(4, 0, 'Keumbu'),\n",
       "  Text(5, 0, 'Rongo'),\n",
       "  Text(6, 0, 'Kijauri'),\n",
       "  Text(7, 0, 'Oyugis'),\n",
       "  Text(8, 0, 'Awendo'),\n",
       "  Text(9, 0, 'Sirare'),\n",
       "  Text(10, 0, 'Nyachenge'),\n",
       "  Text(11, 0, 'Kehancha'),\n",
       "  Text(12, 0, 'Kendu Bay'),\n",
       "  Text(13, 0, 'Sori'),\n",
       "  Text(14, 0, 'Rodi'),\n",
       "  Text(15, 0, 'Mbita'),\n",
       "  Text(16, 0, 'Ndhiwa')])"
      ]
     },
     "execution_count": 21,
     "metadata": {},
     "output_type": "execute_result"
    },
    {
     "data": {
      "image/png": "[encoded data removed]",
      "text/plain": [
       "<Figure size 576x504 with 1 Axes>"
      ]
     },
     "metadata": {},
     "output_type": "display_data"
    }
   ],
   "source": [
    "fig=plt.figure(figsize=(8,7))\n",
    "ax=fig.gca()\n",
    "sns.barplot(data=df,x='travel_from',y='Number_of_ticket',ax=ax,color='y')\n",
    "sns.set_theme(style='darkgrid')\n",
    "plt.xticks(rotation=90)"
   ]
  },
  {
   "cell_type": "code",
   "execution_count": 22,
   "id": "058fd866-bb46-4482-86a0-8f37b283041a",
   "metadata": {},
   "outputs": [
    {
     "data": {
      "text/plain": [
       "<seaborn.axisgrid.FacetGrid at 0x7f71d10ac1f0>"
      ]
     },
     "execution_count": 22,
     "metadata": {},
     "output_type": "execute_result"
    },
    {
     "data": {
      "text/plain": [
       "<Figure size 576x504 with 0 Axes>"
      ]
     },
     "metadata": {},
     "output_type": "display_data"
    },
    {
     "data": {
      "image/png": "[encoded data removed]",
      "text/plain": [
       "<Figure size 360x360 with 1 Axes>"
      ]
     },
     "metadata": {},
     "output_type": "display_data"
    }
   ],
   "source": [
    "plt.figure(figsize=(8,7))\n",
    "sns.displot(df['car_type'],color='y')"
   ]
  },
  {
   "cell_type": "code",
   "execution_count": 23,
   "id": "33e130b1-a5f2-466e-bdac-96013b04c466",
   "metadata": {},
   "outputs": [
    {
     "data": {
      "text/plain": [
       "(array([0, 1]), [Text(0, 0, '11'), Text(1, 0, '49')])"
      ]
     },
     "execution_count": 23,
     "metadata": {},
     "output_type": "execute_result"
    },
    {
     "data": {
      "image/png": "[encoded data removed]",
      "text/plain": [
       "<Figure size 576x504 with 1 Axes>"
      ]
     },
     "metadata": {},
     "output_type": "display_data"
    }
   ],
   "source": [
    "fig=plt.figure(figsize=(8,7))\n",
    "ax=fig.gca()\n",
    "sns.barplot(data=df,x='max_capacity',y='Number_of_ticket',ax=ax,color='y')\n",
    "sns.set_theme(style='darkgrid')\n",
    "plt.xticks(rotation=90)"
   ]
  },
  {
   "cell_type": "code",
   "execution_count": 24,
   "id": "26e88c9b-8370-490e-afe3-5178536ca5e5",
   "metadata": {},
   "outputs": [
    {
     "name": "stderr",
     "output_type": "stream",
     "text": [
      "/tmp/ipykernel_5065/665172318.py:4: FutureWarning: Series.dt.weekofyear and Series.dt.week have been deprecated. Please use Series.dt.isocalendar().week instead.\n",
      "  df['week']=df['date_and_time'].dt.week\n"
     ]
    }
   ],
   "source": [
    "#creating more variable using Date and time field\n",
    "df['day_of_year']=df['date_and_time'].dt.day_of_year\n",
    "df['month']=df['date_and_time'].dt.month\n",
    "df['week']=df['date_and_time'].dt.week\n",
    "df['day_of_month']=df['date_and_time'].dt.month\n",
    "df['quater']=df['date_and_time'].dt.quarter\n",
    "df['day_of_week']=df['date_and_time'].dt.dayofweek"
   ]
  },
  {
   "cell_type": "code",
   "execution_count": 26,
   "id": "cde41b1e-88c7-449a-a594-d81e1b6486db",
   "metadata": {},
   "outputs": [],
   "source": [
    "def conv_weekend(a):\n",
    "    if a <=4:\n",
    "        return 0\n",
    "    if a>4 and a<7:\n",
    "        return 1"
   ]
  },
  {
   "cell_type": "code",
   "execution_count": 31,
   "id": "5a73c388-2ed0-4efc-99f9-d7d8bacb8207",
   "metadata": {},
   "outputs": [
    {
     "data": {
      "text/plain": [
       "array([1, 6, 0, 4, 3, 2, 5])"
      ]
     },
     "execution_count": 31,
     "metadata": {},
     "output_type": "execute_result"
    }
   ],
   "source": [
    "df['weekend']=df['day_of_week'].apply(conv_weekend)\n",
    "df['hour']=df['date_and_time'].dt.hour\n",
    "df['day_of_week'].unique()"
   ]
  },
  {
   "cell_type": "code",
   "execution_count": 32,
   "id": "28d5eb3f-3871-470c-9cd7-2688c7a8486f",
   "metadata": {},
   "outputs": [],
   "source": [
    "def period_count(hour):\n",
    "    if hour<=5:\n",
    "        return \"Late Night\"\n",
    "    if hour>5 and hour<=10:\n",
    "        return \"Morning\"\n",
    "    if hour>10 and hour<=15:\n",
    "        return \"After Noon\"\n",
    "    if hour>15 and hour<20:\n",
    "        return \"Evening\"\n",
    "    else:\n",
    "        return \"Night\""
   ]
  },
  {
   "cell_type": "code",
   "execution_count": 35,
   "id": "dc722e8f-a4fa-4898-810b-2eb635e73148",
   "metadata": {},
   "outputs": [
    {
     "name": "stderr",
     "output_type": "stream",
     "text": [
      "/home/siddhant/anaconda3/lib/python3.9/site-packages/seaborn/distributions.py:2619: FutureWarning: `distplot` is a deprecated function and will be removed in a future version. Please adapt your code to use either `displot` (a figure-level function with similar flexibility) or `histplot` (an axes-level function for histograms).\n",
      "  warnings.warn(msg, FutureWarning)\n"
     ]
    },
    {
     "data": {
      "text/plain": [
       "<AxesSubplot:xlabel='hour', ylabel='Density'>"
      ]
     },
     "execution_count": 35,
     "metadata": {},
     "output_type": "execute_result"
    },
    {
     "data": {
      "image/png": "[encoded data removed]",
      "text/plain": [
       "<Figure size 432x288 with 1 Axes>"
      ]
     },
     "metadata": {},
     "output_type": "display_data"
    }
   ],
   "source": [
    "sns.distplot(df.hour,color='y')"
   ]
  },
  {
   "cell_type": "code",
   "execution_count": 36,
   "id": "cdf93dfd-e4d8-441e-be6c-ef66e4de6d94",
   "metadata": {},
   "outputs": [
    {
     "data": {
      "text/plain": [
       "<seaborn.axisgrid.FacetGrid at 0x7f71cf6b9610>"
      ]
     },
     "execution_count": 36,
     "metadata": {},
     "output_type": "execute_result"
    },
    {
     "data": {
      "image/png": "[encoded data removed]",
      "text/plain": [
       "<Figure size 360x360 with 1 Axes>"
      ]
     },
     "metadata": {},
     "output_type": "display_data"
    }
   ],
   "source": [
    "df['period']=df.hour.apply(period_count)\n",
    "sns.displot(df.period,color='y')"
   ]
  },
  {
   "cell_type": "markdown",
   "id": "e24bbd79-25f6-4f44-ae1e-fef809d08e25",
   "metadata": {},
   "source": [
    "## Feature Engineering"
   ]
  },
  {
   "cell_type": "code",
   "execution_count": 37,
   "id": "f8525bac-0217-4c70-a64a-bc3048691eeb",
   "metadata": {},
   "outputs": [],
   "source": [
    "# Adding Weight based on Frequency of the Period\n",
    "period_weight={\"Morning\":4,\"Evening\":2.5,\"Late Night\":2,\"After Noon\":1,\"Night\":0.5}\n",
    "df['period_weight']=df.period.map(period_weight)"
   ]
  },
  {
   "cell_type": "code",
   "execution_count": 39,
   "id": "3a474669-a0ca-4e06-8320-6d38b73de468",
   "metadata": {},
   "outputs": [],
   "source": [
    "#Assigning weight to day of year\n",
    "day_of_year_weight=dict(df.day_of_year.value_counts())\n",
    "df['day_of_year_weight']=np.log1p(df.day_of_year.map(day_of_year_weight))"
   ]
  },
  {
   "cell_type": "code",
   "execution_count": 40,
   "id": "d71ff63b-c3e0-407a-a24b-a6bd30ba9bba",
   "metadata": {},
   "outputs": [],
   "source": [
    "#Assigning weight to Week\n",
    "week_of_year_weight=dict(df.week.value_counts())\n",
    "df['week_of_year_weight']=np.log1p(df.week.map(week_of_year_weight))"
   ]
  },
  {
   "cell_type": "code",
   "execution_count": 41,
   "id": "d8c8f6f5-7395-48c2-bc31-91501d6735e9",
   "metadata": {},
   "outputs": [],
   "source": [
    "#Assigning weight to day of month column\n",
    "day_of_month_weight=dict(df.day_of_month.value_counts())\n",
    "df['day_of_month_weight']=np.log1p(df.day_of_month.map(day_of_month_weight))"
   ]
  },
  {
   "cell_type": "code",
   "execution_count": 42,
   "id": "92808a61-8aed-4b1d-adda-784c38708cba",
   "metadata": {},
   "outputs": [],
   "source": [
    "# Assigning weight to Month column\n",
    "month_weight=dict(df.month.value_counts())\n",
    "df['month_weight']=np.log1p(df.month.map(month_weight))\n"
   ]
  },
  {
   "cell_type": "markdown",
   "id": "0d29d270-f0bd-47e9-8053-34cdf80bd3c4",
   "metadata": {},
   "source": [
    "**Mapping distance to Nairobi,** That will help us to calculate the aproximate time taken by the bus to reach Nairobi. Using which the model will be abel to calculate the trafic jam based on frequency of the passanger. As H0 at this moment is passange will not prefer to travel when there destination time is in working hours."
   ]
  },
  {
   "cell_type": "code",
   "execution_count": 43,
   "id": "3cd2923e-439b-4833-8ba2-ff16aa67f8f7",
   "metadata": {},
   "outputs": [],
   "source": [
    "# Mapping distance to Nairobi.\n",
    "travel_distance_to_Nairobi_dict = {'Awendo':352, 'Homa Bay':368, 'Kehancha':308, 'Kendu Bay':343, 'Keroka':281, 'Keumbu':295,\n",
    "                                   'Kijauri':272, 'Kisii':306, 'Mbita':406, 'Migori':373, 'Ndhiwa':385, 'Nyachenge':313, 'Oyugis':324,\n",
    "                                   'Rodi':348, 'Rongo':333, 'Sirare':415, 'Sori':407}\n",
    "df['travel_distance_to_Nairobi'] = df.travel_from.map(travel_distance_to_Nairobi_dict)"
   ]
  },
  {
   "cell_type": "code",
   "execution_count": 44,
   "id": "f8051da2-c2db-4367-baf3-33c1837b7ff2",
   "metadata": {},
   "outputs": [],
   "source": [
    "# Since we've been given that time taken to reach nairobi is about 8 to 9 hours. Lets assume that it take 510 minutes to reach nariobi which is the average.\n",
    "df['Travel_time_to_out_skirt'] = 510\n",
    "df['Total_travel_time']=660"
   ]
  },
  {
   "cell_type": "code",
   "execution_count": 45,
   "id": "7fe8d909-485e-46a3-bb99-019255a33067",
   "metadata": {},
   "outputs": [],
   "source": [
    "from datetime import timedelta,datetime,time\n",
    "def caltimedelta(x):\n",
    "    return timedelta(minutes=x)\n"
   ]
  },
  {
   "cell_type": "code",
   "execution_count": 46,
   "id": "e5c961eb-2838-42b5-9a38-5c1b940d0a54",
   "metadata": {},
   "outputs": [],
   "source": [
    "def extract_time(x):\n",
    "    return datetime.time(x)"
   ]
  },
  {
   "cell_type": "code",
   "execution_count": 47,
   "id": "b01e8cfe-01f3-4a6a-a410-92893f70d554",
   "metadata": {},
   "outputs": [],
   "source": [
    "df['Arrival_time_to_out_skirt']=df.date_and_time+df['Travel_time_to_out_skirt'].apply(caltimedelta)\n",
    "df['Arrival_time_to_Nairobi']=df.date_and_time+df['Total_travel_time'].apply(caltimedelta)\n",
    "df['Arrival_time']=df.Arrival_time_to_Nairobi.apply(extract_time)\n"
   ]
  },
  {
   "cell_type": "code",
   "execution_count": 48,
   "id": "fac9d490-c5af-4d9f-a198-dd958b2540ac",
   "metadata": {},
   "outputs": [],
   "source": [
    "def trafic_peak_hours(x):\n",
    "    if (x >= time(8,0,0) and x< time(10,30,0)) or (x> time(18,0,0) and x< time(20,30,0)):\n",
    "        return 0\n",
    "    else:\n",
    "        return 1\n",
    "\n"
   ]
  },
  {
   "cell_type": "code",
   "execution_count": 49,
   "id": "1ffbd7f7-08e3-4ed7-9329-c46c7f980ae9",
   "metadata": {},
   "outputs": [],
   "source": [
    "df['Arrival_time_at_no_trafic_rush_time']=df.Arrival_time.apply(trafic_peak_hours)\n"
   ]
  },
  {
   "cell_type": "code",
   "execution_count": 50,
   "id": "483800ee-ad35-4eda-9208-d5a989bf8df2",
   "metadata": {},
   "outputs": [
    {
     "name": "stderr",
     "output_type": "stream",
     "text": [
      "/home/siddhant/anaconda3/lib/python3.9/site-packages/seaborn/distributions.py:2619: FutureWarning: `distplot` is a deprecated function and will be removed in a future version. Please adapt your code to use either `displot` (a figure-level function with similar flexibility) or `histplot` (an axes-level function for histograms).\n",
      "  warnings.warn(msg, FutureWarning)\n"
     ]
    },
    {
     "data": {
      "text/plain": [
       "<AxesSubplot:xlabel='Arrival_time_at_no_trafic_rush_time', ylabel='Density'>"
      ]
     },
     "execution_count": 50,
     "metadata": {},
     "output_type": "execute_result"
    },
    {
     "data": {
      "image/png": "[encoded data removed]",
      "text/plain": [
       "<Figure size 432x288 with 1 Axes>"
      ]
     },
     "metadata": {},
     "output_type": "display_data"
    }
   ],
   "source": [
    "# The above distplot clearly shows that most of the bus scheduled when it arrival time is not a peak hour\n",
    "sns.distplot(df.Arrival_time_at_no_trafic_rush_time ,color='y')"
   ]
  },
  {
   "cell_type": "code",
   "execution_count": 51,
   "id": "d8601a8d-2d6f-45f1-8406-63c07adc1cad",
   "metadata": {},
   "outputs": [
    {
     "data": {
      "text/html": [
       "<div>\n",
       "<style scoped>\n",
       "    .dataframe tbody tr th:only-of-type {\n",
       "        vertical-align: middle;\n",
       "    }\n",
       "\n",
       "    .dataframe tbody tr th {\n",
       "        vertical-align: top;\n",
       "    }\n",
       "\n",
       "    .dataframe thead th {\n",
       "        text-align: right;\n",
       "    }\n",
       "</style>\n",
       "<table border=\"1\" class=\"dataframe\">\n",
       "  <thead>\n",
       "    <tr style=\"text-align: right;\">\n",
       "      <th></th>\n",
       "      <th>ride_id</th>\n",
       "      <th>travel_date</th>\n",
       "      <th>travel_time</th>\n",
       "      <th>travel_from</th>\n",
       "      <th>car_type</th>\n",
       "      <th>max_capacity</th>\n",
       "      <th>Number_of_ticket</th>\n",
       "      <th>date_and_time</th>\n",
       "      <th>day_of_year</th>\n",
       "      <th>month</th>\n",
       "      <th>...</th>\n",
       "      <th>week_of_year_weight</th>\n",
       "      <th>day_of_month_weight</th>\n",
       "      <th>month_weight</th>\n",
       "      <th>travel_distance_to_Nairobi</th>\n",
       "      <th>Travel_time_to_out_skirt</th>\n",
       "      <th>Total_travel_time</th>\n",
       "      <th>Arrival_time_to_out_skirt</th>\n",
       "      <th>Arrival_time_to_Nairobi</th>\n",
       "      <th>Arrival_time</th>\n",
       "      <th>Arrival_time_at_no_trafic_rush_time</th>\n",
       "    </tr>\n",
       "  </thead>\n",
       "  <tbody>\n",
       "    <tr>\n",
       "      <th>0</th>\n",
       "      <td>1442</td>\n",
       "      <td>17-10-17</td>\n",
       "      <td>7:15</td>\n",
       "      <td>Migori</td>\n",
       "      <td>Bus</td>\n",
       "      <td>49</td>\n",
       "      <td>1</td>\n",
       "      <td>2017-10-17 07:15:00</td>\n",
       "      <td>290</td>\n",
       "      <td>10</td>\n",
       "      <td>...</td>\n",
       "      <td>0.693147</td>\n",
       "      <td>7.611348</td>\n",
       "      <td>7.611348</td>\n",
       "      <td>373</td>\n",
       "      <td>510</td>\n",
       "      <td>660</td>\n",
       "      <td>2017-10-17 15:45:00</td>\n",
       "      <td>2017-10-17 18:15:00</td>\n",
       "      <td>18:15:00</td>\n",
       "      <td>0</td>\n",
       "    </tr>\n",
       "    <tr>\n",
       "      <th>1</th>\n",
       "      <td>5437</td>\n",
       "      <td>19-11-17</td>\n",
       "      <td>7:12</td>\n",
       "      <td>Migori</td>\n",
       "      <td>Bus</td>\n",
       "      <td>49</td>\n",
       "      <td>1</td>\n",
       "      <td>2017-11-19 07:12:00</td>\n",
       "      <td>323</td>\n",
       "      <td>11</td>\n",
       "      <td>...</td>\n",
       "      <td>1.098612</td>\n",
       "      <td>8.035926</td>\n",
       "      <td>8.035926</td>\n",
       "      <td>373</td>\n",
       "      <td>510</td>\n",
       "      <td>660</td>\n",
       "      <td>2017-11-19 15:42:00</td>\n",
       "      <td>2017-11-19 18:12:00</td>\n",
       "      <td>18:12:00</td>\n",
       "      <td>0</td>\n",
       "    </tr>\n",
       "    <tr>\n",
       "      <th>2</th>\n",
       "      <td>5710</td>\n",
       "      <td>26-11-17</td>\n",
       "      <td>7:05</td>\n",
       "      <td>Keroka</td>\n",
       "      <td>Bus</td>\n",
       "      <td>49</td>\n",
       "      <td>1</td>\n",
       "      <td>2017-11-26 07:05:00</td>\n",
       "      <td>330</td>\n",
       "      <td>11</td>\n",
       "      <td>...</td>\n",
       "      <td>0.693147</td>\n",
       "      <td>8.035926</td>\n",
       "      <td>8.035926</td>\n",
       "      <td>281</td>\n",
       "      <td>510</td>\n",
       "      <td>660</td>\n",
       "      <td>2017-11-26 15:35:00</td>\n",
       "      <td>2017-11-26 18:05:00</td>\n",
       "      <td>18:05:00</td>\n",
       "      <td>0</td>\n",
       "    </tr>\n",
       "    <tr>\n",
       "      <th>3</th>\n",
       "      <td>5777</td>\n",
       "      <td>27-11-17</td>\n",
       "      <td>7:10</td>\n",
       "      <td>Homa Bay</td>\n",
       "      <td>Bus</td>\n",
       "      <td>49</td>\n",
       "      <td>5</td>\n",
       "      <td>2017-11-27 07:10:00</td>\n",
       "      <td>331</td>\n",
       "      <td>11</td>\n",
       "      <td>...</td>\n",
       "      <td>7.521318</td>\n",
       "      <td>8.035926</td>\n",
       "      <td>8.035926</td>\n",
       "      <td>368</td>\n",
       "      <td>510</td>\n",
       "      <td>660</td>\n",
       "      <td>2017-11-27 15:40:00</td>\n",
       "      <td>2017-11-27 18:10:00</td>\n",
       "      <td>18:10:00</td>\n",
       "      <td>0</td>\n",
       "    </tr>\n",
       "    <tr>\n",
       "      <th>4</th>\n",
       "      <td>5778</td>\n",
       "      <td>27-11-17</td>\n",
       "      <td>7:12</td>\n",
       "      <td>Migori</td>\n",
       "      <td>Bus</td>\n",
       "      <td>49</td>\n",
       "      <td>31</td>\n",
       "      <td>2017-11-27 07:12:00</td>\n",
       "      <td>331</td>\n",
       "      <td>11</td>\n",
       "      <td>...</td>\n",
       "      <td>7.521318</td>\n",
       "      <td>8.035926</td>\n",
       "      <td>8.035926</td>\n",
       "      <td>373</td>\n",
       "      <td>510</td>\n",
       "      <td>660</td>\n",
       "      <td>2017-11-27 15:42:00</td>\n",
       "      <td>2017-11-27 18:12:00</td>\n",
       "      <td>18:12:00</td>\n",
       "      <td>0</td>\n",
       "    </tr>\n",
       "  </tbody>\n",
       "</table>\n",
       "<p>5 rows × 29 columns</p>\n",
       "</div>"
      ],
      "text/plain": [
       "   ride_id travel_date travel_time travel_from car_type  max_capacity  \\\n",
       "0     1442    17-10-17        7:15      Migori      Bus            49   \n",
       "1     5437    19-11-17        7:12      Migori      Bus            49   \n",
       "2     5710    26-11-17        7:05      Keroka      Bus            49   \n",
       "3     5777    27-11-17        7:10    Homa Bay      Bus            49   \n",
       "4     5778    27-11-17        7:12      Migori      Bus            49   \n",
       "\n",
       "   Number_of_ticket       date_and_time  day_of_year  month  ...  \\\n",
       "0                 1 2017-10-17 07:15:00          290     10  ...   \n",
       "1                 1 2017-11-19 07:12:00          323     11  ...   \n",
       "2                 1 2017-11-26 07:05:00          330     11  ...   \n",
       "3                 5 2017-11-27 07:10:00          331     11  ...   \n",
       "4                31 2017-11-27 07:12:00          331     11  ...   \n",
       "\n",
       "   week_of_year_weight  day_of_month_weight  month_weight  \\\n",
       "0             0.693147             7.611348      7.611348   \n",
       "1             1.098612             8.035926      8.035926   \n",
       "2             0.693147             8.035926      8.035926   \n",
       "3             7.521318             8.035926      8.035926   \n",
       "4             7.521318             8.035926      8.035926   \n",
       "\n",
       "   travel_distance_to_Nairobi  Travel_time_to_out_skirt  Total_travel_time  \\\n",
       "0                         373                       510                660   \n",
       "1                         373                       510                660   \n",
       "2                         281                       510                660   \n",
       "3                         368                       510                660   \n",
       "4                         373                       510                660   \n",
       "\n",
       "  Arrival_time_to_out_skirt  Arrival_time_to_Nairobi  Arrival_time  \\\n",
       "0       2017-10-17 15:45:00      2017-10-17 18:15:00      18:15:00   \n",
       "1       2017-11-19 15:42:00      2017-11-19 18:12:00      18:12:00   \n",
       "2       2017-11-26 15:35:00      2017-11-26 18:05:00      18:05:00   \n",
       "3       2017-11-27 15:40:00      2017-11-27 18:10:00      18:10:00   \n",
       "4       2017-11-27 15:42:00      2017-11-27 18:12:00      18:12:00   \n",
       "\n",
       "   Arrival_time_at_no_trafic_rush_time  \n",
       "0                                    0  \n",
       "1                                    0  \n",
       "2                                    0  \n",
       "3                                    0  \n",
       "4                                    0  \n",
       "\n",
       "[5 rows x 29 columns]"
      ]
     },
     "execution_count": 51,
     "metadata": {},
     "output_type": "execute_result"
    }
   ],
   "source": [
    "df.head()"
   ]
  },
  {
   "cell_type": "code",
   "execution_count": 52,
   "id": "ba7724da-563c-4236-b319-6d38ccba6b64",
   "metadata": {},
   "outputs": [],
   "source": [
    "df.sort_values(['travel_from','date_and_time'],inplace=True)"
   ]
  },
  {
   "cell_type": "code",
   "execution_count": 53,
   "id": "f32b6ba5-94dc-4587-b59e-9e2cf243061e",
   "metadata": {},
   "outputs": [],
   "source": [
    "# creating field for previous bus time and next bus time and time between last and next bus in seconds.\n",
    "df['delay_btw_previous_and_next_bus']=(df.groupby(['travel_from']).date_and_time.shift(-1)-df.groupby(['travel_from']).date_and_time.shift(1)).dt.total_seconds()/3600\n",
    "df['delay_btw_next1bus']=(df.date_and_time-df.groupby(['travel_from']).date_and_time.shift(-1)).dt.total_seconds()/3600\n",
    "df['delay_btw_previous1bus']=(df.date_and_time-df.groupby(['travel_from']).date_and_time.shift(1)).dt.total_seconds()/3600\n",
    "#df['delay_btw_previous_and_next_bus']=df['delay_btw_previous_and_next_bus']"
   ]
  },
  {
   "cell_type": "code",
   "execution_count": 54,
   "id": "b1018090-2ad6-44fd-89bb-8f1b37676c98",
   "metadata": {},
   "outputs": [
    {
     "data": {
      "text/plain": [
       "ride_id                                 0\n",
       "travel_date                             0\n",
       "travel_time                             0\n",
       "travel_from                             0\n",
       "car_type                                0\n",
       "max_capacity                            0\n",
       "Number_of_ticket                        0\n",
       "date_and_time                           0\n",
       "day_of_year                             0\n",
       "month                                   0\n",
       "week                                    0\n",
       "day_of_month                            0\n",
       "quater                                  0\n",
       "day_of_week                             0\n",
       "weekend                                 0\n",
       "hour                                    0\n",
       "period                                  0\n",
       "period_weight                           0\n",
       "day_of_year_weight                      0\n",
       "week_of_year_weight                     0\n",
       "day_of_month_weight                     0\n",
       "month_weight                            0\n",
       "travel_distance_to_Nairobi              0\n",
       "Travel_time_to_out_skirt                0\n",
       "Total_travel_time                       0\n",
       "Arrival_time_to_out_skirt               0\n",
       "Arrival_time_to_Nairobi                 0\n",
       "Arrival_time                            0\n",
       "Arrival_time_at_no_trafic_rush_time     0\n",
       "delay_btw_previous_and_next_bus        33\n",
       "delay_btw_next1bus                     17\n",
       "delay_btw_previous1bus                 17\n",
       "dtype: int64"
      ]
     },
     "execution_count": 54,
     "metadata": {},
     "output_type": "execute_result"
    }
   ],
   "source": [
    "df.isnull().sum()"
   ]
  },
  {
   "cell_type": "code",
   "execution_count": 55,
   "id": "02c1acff-cd51-4812-8378-99fb0a3a54fc",
   "metadata": {},
   "outputs": [],
   "source": [
    "#Filling null value using ffill method and backfill method.\n",
    "df['delay_btw_previous_and_next_bus']=df.delay_btw_previous_and_next_bus.fillna(method='ffill')\n",
    "df['delay_btw_previous_and_next_bus']=df.delay_btw_previous_and_next_bus.fillna(method='backfill')\n",
    "df['delay_btw_next1bus']=df.delay_btw_next1bus.fillna(method='ffill')\n",
    "df['delay_btw_next1bus']=df.delay_btw_next1bus.fillna(method='backfill')\n",
    "df['delay_btw_previous1bus']=df.delay_btw_previous1bus.fillna(method='ffill')\n",
    "df['delay_btw_previous1bus']=df.delay_btw_previous1bus.fillna(method='backfill')"
   ]
  },
  {
   "cell_type": "code",
   "execution_count": 56,
   "id": "90cbb441-a075-447b-bfaf-2242cd6ab499",
   "metadata": {},
   "outputs": [
    {
     "name": "stderr",
     "output_type": "stream",
     "text": [
      "/tmp/ipykernel_5065/377021028.py:1: FutureWarning: Treating datetime data as categorical rather than numeric in `.describe` is deprecated and will be removed in a future version of pandas. Specify `datetime_is_numeric=True` to silence this warning and adopt the future behavior now.\n",
      "  df.describe(include='all').T\n",
      "/tmp/ipykernel_5065/377021028.py:1: FutureWarning: Treating datetime data as categorical rather than numeric in `.describe` is deprecated and will be removed in a future version of pandas. Specify `datetime_is_numeric=True` to silence this warning and adopt the future behavior now.\n",
      "  df.describe(include='all').T\n",
      "/tmp/ipykernel_5065/377021028.py:1: FutureWarning: Treating datetime data as categorical rather than numeric in `.describe` is deprecated and will be removed in a future version of pandas. Specify `datetime_is_numeric=True` to silence this warning and adopt the future behavior now.\n",
      "  df.describe(include='all').T\n"
     ]
    },
    {
     "data": {
      "text/html": [
       "<div>\n",
       "<style scoped>\n",
       "    .dataframe tbody tr th:only-of-type {\n",
       "        vertical-align: middle;\n",
       "    }\n",
       "\n",
       "    .dataframe tbody tr th {\n",
       "        vertical-align: top;\n",
       "    }\n",
       "\n",
       "    .dataframe thead th {\n",
       "        text-align: right;\n",
       "    }\n",
       "</style>\n",
       "<table border=\"1\" class=\"dataframe\">\n",
       "  <thead>\n",
       "    <tr style=\"text-align: right;\">\n",
       "      <th></th>\n",
       "      <th>count</th>\n",
       "      <th>unique</th>\n",
       "      <th>top</th>\n",
       "      <th>freq</th>\n",
       "      <th>first</th>\n",
       "      <th>last</th>\n",
       "      <th>mean</th>\n",
       "      <th>std</th>\n",
       "      <th>min</th>\n",
       "      <th>25%</th>\n",
       "      <th>50%</th>\n",
       "      <th>75%</th>\n",
       "      <th>max</th>\n",
       "    </tr>\n",
       "  </thead>\n",
       "  <tbody>\n",
       "    <tr>\n",
       "      <th>ride_id</th>\n",
       "      <td>51645.0</td>\n",
       "      <td>NaN</td>\n",
       "      <td>NaN</td>\n",
       "      <td>NaN</td>\n",
       "      <td>NaT</td>\n",
       "      <td>NaT</td>\n",
       "      <td>10188.645793</td>\n",
       "      <td>2211.295708</td>\n",
       "      <td>1442.0</td>\n",
       "      <td>8287.0</td>\n",
       "      <td>10353.0</td>\n",
       "      <td>12029.0</td>\n",
       "      <td>20117.0</td>\n",
       "    </tr>\n",
       "    <tr>\n",
       "      <th>travel_date</th>\n",
       "      <td>51645</td>\n",
       "      <td>149</td>\n",
       "      <td>10-12-17</td>\n",
       "      <td>856</td>\n",
       "      <td>NaT</td>\n",
       "      <td>NaT</td>\n",
       "      <td>NaN</td>\n",
       "      <td>NaN</td>\n",
       "      <td>NaN</td>\n",
       "      <td>NaN</td>\n",
       "      <td>NaN</td>\n",
       "      <td>NaN</td>\n",
       "      <td>NaN</td>\n",
       "    </tr>\n",
       "    <tr>\n",
       "      <th>travel_time</th>\n",
       "      <td>51645</td>\n",
       "      <td>78</td>\n",
       "      <td>7:09</td>\n",
       "      <td>3926</td>\n",
       "      <td>NaT</td>\n",
       "      <td>NaT</td>\n",
       "      <td>NaN</td>\n",
       "      <td>NaN</td>\n",
       "      <td>NaN</td>\n",
       "      <td>NaN</td>\n",
       "      <td>NaN</td>\n",
       "      <td>NaN</td>\n",
       "      <td>NaN</td>\n",
       "    </tr>\n",
       "    <tr>\n",
       "      <th>travel_from</th>\n",
       "      <td>51645</td>\n",
       "      <td>17</td>\n",
       "      <td>Kisii</td>\n",
       "      <td>22607</td>\n",
       "      <td>NaT</td>\n",
       "      <td>NaT</td>\n",
       "      <td>NaN</td>\n",
       "      <td>NaN</td>\n",
       "      <td>NaN</td>\n",
       "      <td>NaN</td>\n",
       "      <td>NaN</td>\n",
       "      <td>NaN</td>\n",
       "      <td>NaN</td>\n",
       "    </tr>\n",
       "    <tr>\n",
       "      <th>car_type</th>\n",
       "      <td>51645</td>\n",
       "      <td>2</td>\n",
       "      <td>Bus</td>\n",
       "      <td>31985</td>\n",
       "      <td>NaT</td>\n",
       "      <td>NaT</td>\n",
       "      <td>NaN</td>\n",
       "      <td>NaN</td>\n",
       "      <td>NaN</td>\n",
       "      <td>NaN</td>\n",
       "      <td>NaN</td>\n",
       "      <td>NaN</td>\n",
       "      <td>NaN</td>\n",
       "    </tr>\n",
       "    <tr>\n",
       "      <th>max_capacity</th>\n",
       "      <td>51645.0</td>\n",
       "      <td>NaN</td>\n",
       "      <td>NaN</td>\n",
       "      <td>NaN</td>\n",
       "      <td>NaT</td>\n",
       "      <td>NaT</td>\n",
       "      <td>34.534321</td>\n",
       "      <td>18.451193</td>\n",
       "      <td>11.0</td>\n",
       "      <td>11.0</td>\n",
       "      <td>49.0</td>\n",
       "      <td>49.0</td>\n",
       "      <td>49.0</td>\n",
       "    </tr>\n",
       "    <tr>\n",
       "      <th>Number_of_ticket</th>\n",
       "      <td>51645.0</td>\n",
       "      <td>NaN</td>\n",
       "      <td>NaN</td>\n",
       "      <td>NaN</td>\n",
       "      <td>NaT</td>\n",
       "      <td>NaT</td>\n",
       "      <td>17.280918</td>\n",
       "      <td>12.375598</td>\n",
       "      <td>1.0</td>\n",
       "      <td>9.0</td>\n",
       "      <td>11.0</td>\n",
       "      <td>26.0</td>\n",
       "      <td>50.0</td>\n",
       "    </tr>\n",
       "    <tr>\n",
       "      <th>date_and_time</th>\n",
       "      <td>51645</td>\n",
       "      <td>4579</td>\n",
       "      <td>2018-02-19 19:07:00</td>\n",
       "      <td>57</td>\n",
       "      <td>2017-01-12 05:00:00</td>\n",
       "      <td>2018-12-04 23:10:00</td>\n",
       "      <td>NaN</td>\n",
       "      <td>NaN</td>\n",
       "      <td>NaN</td>\n",
       "      <td>NaN</td>\n",
       "      <td>NaN</td>\n",
       "      <td>NaN</td>\n",
       "      <td>NaN</td>\n",
       "    </tr>\n",
       "    <tr>\n",
       "      <th>day_of_year</th>\n",
       "      <td>51645.0</td>\n",
       "      <td>NaN</td>\n",
       "      <td>NaN</td>\n",
       "      <td>NaN</td>\n",
       "      <td>NaT</td>\n",
       "      <td>NaT</td>\n",
       "      <td>161.680821</td>\n",
       "      <td>123.240773</td>\n",
       "      <td>1.0</td>\n",
       "      <td>52.0</td>\n",
       "      <td>108.0</td>\n",
       "      <td>285.0</td>\n",
       "      <td>365.0</td>\n",
       "    </tr>\n",
       "    <tr>\n",
       "      <th>month</th>\n",
       "      <td>51645.0</td>\n",
       "      <td>NaN</td>\n",
       "      <td>NaN</td>\n",
       "      <td>NaN</td>\n",
       "      <td>NaT</td>\n",
       "      <td>NaT</td>\n",
       "      <td>5.890774</td>\n",
       "      <td>4.111171</td>\n",
       "      <td>1.0</td>\n",
       "      <td>2.0</td>\n",
       "      <td>4.0</td>\n",
       "      <td>10.0</td>\n",
       "      <td>12.0</td>\n",
       "    </tr>\n",
       "    <tr>\n",
       "      <th>week</th>\n",
       "      <td>51645.0</td>\n",
       "      <td>NaN</td>\n",
       "      <td>NaN</td>\n",
       "      <td>NaN</td>\n",
       "      <td>NaT</td>\n",
       "      <td>NaT</td>\n",
       "      <td>23.499932</td>\n",
       "      <td>17.557704</td>\n",
       "      <td>1.0</td>\n",
       "      <td>8.0</td>\n",
       "      <td>16.0</td>\n",
       "      <td>41.0</td>\n",
       "      <td>52.0</td>\n",
       "    </tr>\n",
       "    <tr>\n",
       "      <th>day_of_month</th>\n",
       "      <td>51645.0</td>\n",
       "      <td>NaN</td>\n",
       "      <td>NaN</td>\n",
       "      <td>NaN</td>\n",
       "      <td>NaT</td>\n",
       "      <td>NaT</td>\n",
       "      <td>5.890774</td>\n",
       "      <td>4.111171</td>\n",
       "      <td>1.0</td>\n",
       "      <td>2.0</td>\n",
       "      <td>4.0</td>\n",
       "      <td>10.0</td>\n",
       "      <td>12.0</td>\n",
       "    </tr>\n",
       "    <tr>\n",
       "      <th>quater</th>\n",
       "      <td>51645.0</td>\n",
       "      <td>NaN</td>\n",
       "      <td>NaN</td>\n",
       "      <td>NaN</td>\n",
       "      <td>NaT</td>\n",
       "      <td>NaT</td>\n",
       "      <td>2.275903</td>\n",
       "      <td>1.265747</td>\n",
       "      <td>1.0</td>\n",
       "      <td>1.0</td>\n",
       "      <td>2.0</td>\n",
       "      <td>4.0</td>\n",
       "      <td>4.0</td>\n",
       "    </tr>\n",
       "    <tr>\n",
       "      <th>day_of_week</th>\n",
       "      <td>51645.0</td>\n",
       "      <td>NaN</td>\n",
       "      <td>NaN</td>\n",
       "      <td>NaN</td>\n",
       "      <td>NaT</td>\n",
       "      <td>NaT</td>\n",
       "      <td>2.916023</td>\n",
       "      <td>1.951749</td>\n",
       "      <td>0.0</td>\n",
       "      <td>1.0</td>\n",
       "      <td>3.0</td>\n",
       "      <td>5.0</td>\n",
       "      <td>6.0</td>\n",
       "    </tr>\n",
       "    <tr>\n",
       "      <th>weekend</th>\n",
       "      <td>51645.0</td>\n",
       "      <td>NaN</td>\n",
       "      <td>NaN</td>\n",
       "      <td>NaN</td>\n",
       "      <td>NaT</td>\n",
       "      <td>NaT</td>\n",
       "      <td>0.255397</td>\n",
       "      <td>0.436089</td>\n",
       "      <td>0.0</td>\n",
       "      <td>0.0</td>\n",
       "      <td>0.0</td>\n",
       "      <td>1.0</td>\n",
       "      <td>1.0</td>\n",
       "    </tr>\n",
       "    <tr>\n",
       "      <th>hour</th>\n",
       "      <td>51645.0</td>\n",
       "      <td>NaN</td>\n",
       "      <td>NaN</td>\n",
       "      <td>NaN</td>\n",
       "      <td>NaT</td>\n",
       "      <td>NaT</td>\n",
       "      <td>8.611385</td>\n",
       "      <td>3.682485</td>\n",
       "      <td>5.0</td>\n",
       "      <td>7.0</td>\n",
       "      <td>7.0</td>\n",
       "      <td>9.0</td>\n",
       "      <td>23.0</td>\n",
       "    </tr>\n",
       "    <tr>\n",
       "      <th>period</th>\n",
       "      <td>51645</td>\n",
       "      <td>5</td>\n",
       "      <td>Morning</td>\n",
       "      <td>44649</td>\n",
       "      <td>NaT</td>\n",
       "      <td>NaT</td>\n",
       "      <td>NaN</td>\n",
       "      <td>NaN</td>\n",
       "      <td>NaN</td>\n",
       "      <td>NaN</td>\n",
       "      <td>NaN</td>\n",
       "      <td>NaN</td>\n",
       "      <td>NaN</td>\n",
       "    </tr>\n",
       "    <tr>\n",
       "      <th>period_weight</th>\n",
       "      <td>51645.0</td>\n",
       "      <td>NaN</td>\n",
       "      <td>NaN</td>\n",
       "      <td>NaN</td>\n",
       "      <td>NaT</td>\n",
       "      <td>NaT</td>\n",
       "      <td>3.745077</td>\n",
       "      <td>0.683704</td>\n",
       "      <td>0.5</td>\n",
       "      <td>4.0</td>\n",
       "      <td>4.0</td>\n",
       "      <td>4.0</td>\n",
       "      <td>4.0</td>\n",
       "    </tr>\n",
       "    <tr>\n",
       "      <th>day_of_year_weight</th>\n",
       "      <td>51645.0</td>\n",
       "      <td>NaN</td>\n",
       "      <td>NaN</td>\n",
       "      <td>NaN</td>\n",
       "      <td>NaT</td>\n",
       "      <td>NaT</td>\n",
       "      <td>6.003663</td>\n",
       "      <td>0.446509</td>\n",
       "      <td>0.693147</td>\n",
       "      <td>5.736572</td>\n",
       "      <td>6.086775</td>\n",
       "      <td>6.297109</td>\n",
       "      <td>6.753438</td>\n",
       "    </tr>\n",
       "    <tr>\n",
       "      <th>week_of_year_weight</th>\n",
       "      <td>51645.0</td>\n",
       "      <td>NaN</td>\n",
       "      <td>NaN</td>\n",
       "      <td>NaN</td>\n",
       "      <td>NaT</td>\n",
       "      <td>NaT</td>\n",
       "      <td>7.421951</td>\n",
       "      <td>0.550293</td>\n",
       "      <td>0.693147</td>\n",
       "      <td>7.18007</td>\n",
       "      <td>7.521318</td>\n",
       "      <td>7.843064</td>\n",
       "      <td>8.184235</td>\n",
       "    </tr>\n",
       "    <tr>\n",
       "      <th>day_of_month_weight</th>\n",
       "      <td>51645.0</td>\n",
       "      <td>NaN</td>\n",
       "      <td>NaN</td>\n",
       "      <td>NaN</td>\n",
       "      <td>NaT</td>\n",
       "      <td>NaT</td>\n",
       "      <td>8.552498</td>\n",
       "      <td>0.583604</td>\n",
       "      <td>7.501634</td>\n",
       "      <td>8.035926</td>\n",
       "      <td>8.715716</td>\n",
       "      <td>9.013352</td>\n",
       "      <td>9.160835</td>\n",
       "    </tr>\n",
       "    <tr>\n",
       "      <th>month_weight</th>\n",
       "      <td>51645.0</td>\n",
       "      <td>NaN</td>\n",
       "      <td>NaN</td>\n",
       "      <td>NaN</td>\n",
       "      <td>NaT</td>\n",
       "      <td>NaT</td>\n",
       "      <td>8.552498</td>\n",
       "      <td>0.583604</td>\n",
       "      <td>7.501634</td>\n",
       "      <td>8.035926</td>\n",
       "      <td>8.715716</td>\n",
       "      <td>9.013352</td>\n",
       "      <td>9.160835</td>\n",
       "    </tr>\n",
       "    <tr>\n",
       "      <th>travel_distance_to_Nairobi</th>\n",
       "      <td>51645.0</td>\n",
       "      <td>NaN</td>\n",
       "      <td>NaN</td>\n",
       "      <td>NaN</td>\n",
       "      <td>NaT</td>\n",
       "      <td>NaT</td>\n",
       "      <td>336.234176</td>\n",
       "      <td>38.474854</td>\n",
       "      <td>272.0</td>\n",
       "      <td>306.0</td>\n",
       "      <td>308.0</td>\n",
       "      <td>368.0</td>\n",
       "      <td>415.0</td>\n",
       "    </tr>\n",
       "    <tr>\n",
       "      <th>Travel_time_to_out_skirt</th>\n",
       "      <td>51645.0</td>\n",
       "      <td>NaN</td>\n",
       "      <td>NaN</td>\n",
       "      <td>NaN</td>\n",
       "      <td>NaT</td>\n",
       "      <td>NaT</td>\n",
       "      <td>510.0</td>\n",
       "      <td>0.0</td>\n",
       "      <td>510.0</td>\n",
       "      <td>510.0</td>\n",
       "      <td>510.0</td>\n",
       "      <td>510.0</td>\n",
       "      <td>510.0</td>\n",
       "    </tr>\n",
       "    <tr>\n",
       "      <th>Total_travel_time</th>\n",
       "      <td>51645.0</td>\n",
       "      <td>NaN</td>\n",
       "      <td>NaN</td>\n",
       "      <td>NaN</td>\n",
       "      <td>NaT</td>\n",
       "      <td>NaT</td>\n",
       "      <td>660.0</td>\n",
       "      <td>0.0</td>\n",
       "      <td>660.0</td>\n",
       "      <td>660.0</td>\n",
       "      <td>660.0</td>\n",
       "      <td>660.0</td>\n",
       "      <td>660.0</td>\n",
       "    </tr>\n",
       "    <tr>\n",
       "      <th>Arrival_time_to_out_skirt</th>\n",
       "      <td>51645</td>\n",
       "      <td>4579</td>\n",
       "      <td>2018-02-20 03:37:00</td>\n",
       "      <td>57</td>\n",
       "      <td>2017-01-12 13:30:00</td>\n",
       "      <td>2018-12-05 07:40:00</td>\n",
       "      <td>NaN</td>\n",
       "      <td>NaN</td>\n",
       "      <td>NaN</td>\n",
       "      <td>NaN</td>\n",
       "      <td>NaN</td>\n",
       "      <td>NaN</td>\n",
       "      <td>NaN</td>\n",
       "    </tr>\n",
       "    <tr>\n",
       "      <th>Arrival_time_to_Nairobi</th>\n",
       "      <td>51645</td>\n",
       "      <td>4579</td>\n",
       "      <td>2018-02-20 06:07:00</td>\n",
       "      <td>57</td>\n",
       "      <td>2017-01-12 16:00:00</td>\n",
       "      <td>2018-12-05 10:10:00</td>\n",
       "      <td>NaN</td>\n",
       "      <td>NaN</td>\n",
       "      <td>NaN</td>\n",
       "      <td>NaN</td>\n",
       "      <td>NaN</td>\n",
       "      <td>NaN</td>\n",
       "      <td>NaN</td>\n",
       "    </tr>\n",
       "    <tr>\n",
       "      <th>Arrival_time</th>\n",
       "      <td>51645</td>\n",
       "      <td>78</td>\n",
       "      <td>18:09:00</td>\n",
       "      <td>3926</td>\n",
       "      <td>NaT</td>\n",
       "      <td>NaT</td>\n",
       "      <td>NaN</td>\n",
       "      <td>NaN</td>\n",
       "      <td>NaN</td>\n",
       "      <td>NaN</td>\n",
       "      <td>NaN</td>\n",
       "      <td>NaN</td>\n",
       "      <td>NaN</td>\n",
       "    </tr>\n",
       "    <tr>\n",
       "      <th>Arrival_time_at_no_trafic_rush_time</th>\n",
       "      <td>51645.0</td>\n",
       "      <td>NaN</td>\n",
       "      <td>NaN</td>\n",
       "      <td>NaN</td>\n",
       "      <td>NaT</td>\n",
       "      <td>NaT</td>\n",
       "      <td>0.327021</td>\n",
       "      <td>0.46913</td>\n",
       "      <td>0.0</td>\n",
       "      <td>0.0</td>\n",
       "      <td>0.0</td>\n",
       "      <td>1.0</td>\n",
       "      <td>1.0</td>\n",
       "    </tr>\n",
       "    <tr>\n",
       "      <th>delay_btw_previous_and_next_bus</th>\n",
       "      <td>51645.0</td>\n",
       "      <td>NaN</td>\n",
       "      <td>NaN</td>\n",
       "      <td>NaN</td>\n",
       "      <td>NaT</td>\n",
       "      <td>NaT</td>\n",
       "      <td>6.637211</td>\n",
       "      <td>82.529336</td>\n",
       "      <td>0.0</td>\n",
       "      <td>0.0</td>\n",
       "      <td>0.0</td>\n",
       "      <td>0.0</td>\n",
       "      <td>5688.0</td>\n",
       "    </tr>\n",
       "    <tr>\n",
       "      <th>delay_btw_next1bus</th>\n",
       "      <td>51645.0</td>\n",
       "      <td>NaN</td>\n",
       "      <td>NaN</td>\n",
       "      <td>NaN</td>\n",
       "      <td>NaT</td>\n",
       "      <td>NaT</td>\n",
       "      <td>-3.354623</td>\n",
       "      <td>55.812001</td>\n",
       "      <td>-5688.0</td>\n",
       "      <td>0.0</td>\n",
       "      <td>0.0</td>\n",
       "      <td>0.0</td>\n",
       "      <td>0.0</td>\n",
       "    </tr>\n",
       "    <tr>\n",
       "      <th>delay_btw_previous1bus</th>\n",
       "      <td>51645.0</td>\n",
       "      <td>NaN</td>\n",
       "      <td>NaN</td>\n",
       "      <td>NaN</td>\n",
       "      <td>NaT</td>\n",
       "      <td>NaT</td>\n",
       "      <td>3.354623</td>\n",
       "      <td>55.812001</td>\n",
       "      <td>0.0</td>\n",
       "      <td>0.0</td>\n",
       "      <td>0.0</td>\n",
       "      <td>0.0</td>\n",
       "      <td>5688.0</td>\n",
       "    </tr>\n",
       "  </tbody>\n",
       "</table>\n",
       "</div>"
      ],
      "text/plain": [
       "                                       count unique                  top  \\\n",
       "ride_id                              51645.0    NaN                  NaN   \n",
       "travel_date                            51645    149             10-12-17   \n",
       "travel_time                            51645     78                 7:09   \n",
       "travel_from                            51645     17                Kisii   \n",
       "car_type                               51645      2                  Bus   \n",
       "max_capacity                         51645.0    NaN                  NaN   \n",
       "Number_of_ticket                     51645.0    NaN                  NaN   \n",
       "date_and_time                          51645   4579  2018-02-19 19:07:00   \n",
       "day_of_year                          51645.0    NaN                  NaN   \n",
       "month                                51645.0    NaN                  NaN   \n",
       "week                                 51645.0    NaN                  NaN   \n",
       "day_of_month                         51645.0    NaN                  NaN   \n",
       "quater                               51645.0    NaN                  NaN   \n",
       "day_of_week                          51645.0    NaN                  NaN   \n",
       "weekend                              51645.0    NaN                  NaN   \n",
       "hour                                 51645.0    NaN                  NaN   \n",
       "period                                 51645      5              Morning   \n",
       "period_weight                        51645.0    NaN                  NaN   \n",
       "day_of_year_weight                   51645.0    NaN                  NaN   \n",
       "week_of_year_weight                  51645.0    NaN                  NaN   \n",
       "day_of_month_weight                  51645.0    NaN                  NaN   \n",
       "month_weight                         51645.0    NaN                  NaN   \n",
       "travel_distance_to_Nairobi           51645.0    NaN                  NaN   \n",
       "Travel_time_to_out_skirt             51645.0    NaN                  NaN   \n",
       "Total_travel_time                    51645.0    NaN                  NaN   \n",
       "Arrival_time_to_out_skirt              51645   4579  2018-02-20 03:37:00   \n",
       "Arrival_time_to_Nairobi                51645   4579  2018-02-20 06:07:00   \n",
       "Arrival_time                           51645     78             18:09:00   \n",
       "Arrival_time_at_no_trafic_rush_time  51645.0    NaN                  NaN   \n",
       "delay_btw_previous_and_next_bus      51645.0    NaN                  NaN   \n",
       "delay_btw_next1bus                   51645.0    NaN                  NaN   \n",
       "delay_btw_previous1bus               51645.0    NaN                  NaN   \n",
       "\n",
       "                                      freq               first  \\\n",
       "ride_id                                NaN                 NaT   \n",
       "travel_date                            856                 NaT   \n",
       "travel_time                           3926                 NaT   \n",
       "travel_from                          22607                 NaT   \n",
       "car_type                             31985                 NaT   \n",
       "max_capacity                           NaN                 NaT   \n",
       "Number_of_ticket                       NaN                 NaT   \n",
       "date_and_time                           57 2017-01-12 05:00:00   \n",
       "day_of_year                            NaN                 NaT   \n",
       "month                                  NaN                 NaT   \n",
       "week                                   NaN                 NaT   \n",
       "day_of_month                           NaN                 NaT   \n",
       "quater                                 NaN                 NaT   \n",
       "day_of_week                            NaN                 NaT   \n",
       "weekend                                NaN                 NaT   \n",
       "hour                                   NaN                 NaT   \n",
       "period                               44649                 NaT   \n",
       "period_weight                          NaN                 NaT   \n",
       "day_of_year_weight                     NaN                 NaT   \n",
       "week_of_year_weight                    NaN                 NaT   \n",
       "day_of_month_weight                    NaN                 NaT   \n",
       "month_weight                           NaN                 NaT   \n",
       "travel_distance_to_Nairobi             NaN                 NaT   \n",
       "Travel_time_to_out_skirt               NaN                 NaT   \n",
       "Total_travel_time                      NaN                 NaT   \n",
       "Arrival_time_to_out_skirt               57 2017-01-12 13:30:00   \n",
       "Arrival_time_to_Nairobi                 57 2017-01-12 16:00:00   \n",
       "Arrival_time                          3926                 NaT   \n",
       "Arrival_time_at_no_trafic_rush_time    NaN                 NaT   \n",
       "delay_btw_previous_and_next_bus        NaN                 NaT   \n",
       "delay_btw_next1bus                     NaN                 NaT   \n",
       "delay_btw_previous1bus                 NaN                 NaT   \n",
       "\n",
       "                                                   last          mean  \\\n",
       "ride_id                                             NaT  10188.645793   \n",
       "travel_date                                         NaT           NaN   \n",
       "travel_time                                         NaT           NaN   \n",
       "travel_from                                         NaT           NaN   \n",
       "car_type                                            NaT           NaN   \n",
       "max_capacity                                        NaT     34.534321   \n",
       "Number_of_ticket                                    NaT     17.280918   \n",
       "date_and_time                       2018-12-04 23:10:00           NaN   \n",
       "day_of_year                                         NaT    161.680821   \n",
       "month                                               NaT      5.890774   \n",
       "week                                                NaT     23.499932   \n",
       "day_of_month                                        NaT      5.890774   \n",
       "quater                                              NaT      2.275903   \n",
       "day_of_week                                         NaT      2.916023   \n",
       "weekend                                             NaT      0.255397   \n",
       "hour                                                NaT      8.611385   \n",
       "period                                              NaT           NaN   \n",
       "period_weight                                       NaT      3.745077   \n",
       "day_of_year_weight                                  NaT      6.003663   \n",
       "week_of_year_weight                                 NaT      7.421951   \n",
       "day_of_month_weight                                 NaT      8.552498   \n",
       "month_weight                                        NaT      8.552498   \n",
       "travel_distance_to_Nairobi                          NaT    336.234176   \n",
       "Travel_time_to_out_skirt                            NaT         510.0   \n",
       "Total_travel_time                                   NaT         660.0   \n",
       "Arrival_time_to_out_skirt           2018-12-05 07:40:00           NaN   \n",
       "Arrival_time_to_Nairobi             2018-12-05 10:10:00           NaN   \n",
       "Arrival_time                                        NaT           NaN   \n",
       "Arrival_time_at_no_trafic_rush_time                 NaT      0.327021   \n",
       "delay_btw_previous_and_next_bus                     NaT      6.637211   \n",
       "delay_btw_next1bus                                  NaT     -3.354623   \n",
       "delay_btw_previous1bus                              NaT      3.354623   \n",
       "\n",
       "                                             std       min       25%  \\\n",
       "ride_id                              2211.295708    1442.0    8287.0   \n",
       "travel_date                                  NaN       NaN       NaN   \n",
       "travel_time                                  NaN       NaN       NaN   \n",
       "travel_from                                  NaN       NaN       NaN   \n",
       "car_type                                     NaN       NaN       NaN   \n",
       "max_capacity                           18.451193      11.0      11.0   \n",
       "Number_of_ticket                       12.375598       1.0       9.0   \n",
       "date_and_time                                NaN       NaN       NaN   \n",
       "day_of_year                           123.240773       1.0      52.0   \n",
       "month                                   4.111171       1.0       2.0   \n",
       "week                                   17.557704       1.0       8.0   \n",
       "day_of_month                            4.111171       1.0       2.0   \n",
       "quater                                  1.265747       1.0       1.0   \n",
       "day_of_week                             1.951749       0.0       1.0   \n",
       "weekend                                 0.436089       0.0       0.0   \n",
       "hour                                    3.682485       5.0       7.0   \n",
       "period                                       NaN       NaN       NaN   \n",
       "period_weight                           0.683704       0.5       4.0   \n",
       "day_of_year_weight                      0.446509  0.693147  5.736572   \n",
       "week_of_year_weight                     0.550293  0.693147   7.18007   \n",
       "day_of_month_weight                     0.583604  7.501634  8.035926   \n",
       "month_weight                            0.583604  7.501634  8.035926   \n",
       "travel_distance_to_Nairobi             38.474854     272.0     306.0   \n",
       "Travel_time_to_out_skirt                     0.0     510.0     510.0   \n",
       "Total_travel_time                            0.0     660.0     660.0   \n",
       "Arrival_time_to_out_skirt                    NaN       NaN       NaN   \n",
       "Arrival_time_to_Nairobi                      NaN       NaN       NaN   \n",
       "Arrival_time                                 NaN       NaN       NaN   \n",
       "Arrival_time_at_no_trafic_rush_time      0.46913       0.0       0.0   \n",
       "delay_btw_previous_and_next_bus        82.529336       0.0       0.0   \n",
       "delay_btw_next1bus                     55.812001   -5688.0       0.0   \n",
       "delay_btw_previous1bus                 55.812001       0.0       0.0   \n",
       "\n",
       "                                          50%       75%       max  \n",
       "ride_id                               10353.0   12029.0   20117.0  \n",
       "travel_date                               NaN       NaN       NaN  \n",
       "travel_time                               NaN       NaN       NaN  \n",
       "travel_from                               NaN       NaN       NaN  \n",
       "car_type                                  NaN       NaN       NaN  \n",
       "max_capacity                             49.0      49.0      49.0  \n",
       "Number_of_ticket                         11.0      26.0      50.0  \n",
       "date_and_time                             NaN       NaN       NaN  \n",
       "day_of_year                             108.0     285.0     365.0  \n",
       "month                                     4.0      10.0      12.0  \n",
       "week                                     16.0      41.0      52.0  \n",
       "day_of_month                              4.0      10.0      12.0  \n",
       "quater                                    2.0       4.0       4.0  \n",
       "day_of_week                               3.0       5.0       6.0  \n",
       "weekend                                   0.0       1.0       1.0  \n",
       "hour                                      7.0       9.0      23.0  \n",
       "period                                    NaN       NaN       NaN  \n",
       "period_weight                             4.0       4.0       4.0  \n",
       "day_of_year_weight                   6.086775  6.297109  6.753438  \n",
       "week_of_year_weight                  7.521318  7.843064  8.184235  \n",
       "day_of_month_weight                  8.715716  9.013352  9.160835  \n",
       "month_weight                         8.715716  9.013352  9.160835  \n",
       "travel_distance_to_Nairobi              308.0     368.0     415.0  \n",
       "Travel_time_to_out_skirt                510.0     510.0     510.0  \n",
       "Total_travel_time                       660.0     660.0     660.0  \n",
       "Arrival_time_to_out_skirt                 NaN       NaN       NaN  \n",
       "Arrival_time_to_Nairobi                   NaN       NaN       NaN  \n",
       "Arrival_time                              NaN       NaN       NaN  \n",
       "Arrival_time_at_no_trafic_rush_time       0.0       1.0       1.0  \n",
       "delay_btw_previous_and_next_bus           0.0       0.0    5688.0  \n",
       "delay_btw_next1bus                        0.0       0.0       0.0  \n",
       "delay_btw_previous1bus                    0.0       0.0    5688.0  "
      ]
     },
     "execution_count": 56,
     "metadata": {},
     "output_type": "execute_result"
    }
   ],
   "source": [
    "df.describe(include='all').T"
   ]
  },
  {
   "cell_type": "code",
   "execution_count": 57,
   "id": "5c3954d8-a7e2-4d2c-b082-6e1b49d04974",
   "metadata": {},
   "outputs": [
    {
     "data": {
      "text/plain": [
       "<AxesSubplot:>"
      ]
     },
     "execution_count": 57,
     "metadata": {},
     "output_type": "execute_result"
    },
    {
     "data": {
      "image/png": "[encoded data removed]",
      "text/plain": [
       "<Figure size 1440x1080 with 2 Axes>"
      ]
     },
     "metadata": {},
     "output_type": "display_data"
    }
   ],
   "source": [
    "fig=plt.figure(figsize=(20,15))\n",
    "ax=fig.gca()\n",
    "correlation=df.corr()\n",
    "sns.heatmap(abs(correlation),annot=True,cmap='coolwarm')"
   ]
  },
  {
   "cell_type": "code",
   "execution_count": 58,
   "id": "9fea8c55-2ff0-4094-80db-49df0886cb8e",
   "metadata": {},
   "outputs": [],
   "source": [
    "#Generating dummy variable for catagriocal Column\n",
    "df=pd.get_dummies(df,columns=['car_type','travel_from'])"
   ]
  },
  {
   "cell_type": "code",
   "execution_count": 59,
   "id": "6066d9da-c10d-43e5-99a7-30ee1efc1d5a",
   "metadata": {},
   "outputs": [],
   "source": [
    "# Dropping column that are not siginificant for the model.\n",
    "df.drop(['travel_date','travel_time','date_and_time','period','Arrival_time','Arrival_time_to_out_skirt','Arrival_time_to_Nairobi'],axis=1,inplace=True)\n"
   ]
  },
  {
   "cell_type": "code",
   "execution_count": 60,
   "id": "e38f4749-de05-4db9-9054-30c8119c539c",
   "metadata": {},
   "outputs": [
    {
     "data": {
      "text/plain": [
       "Index(['ride_id', 'max_capacity', 'Number_of_ticket', 'day_of_year', 'month',\n",
       "       'week', 'day_of_month', 'quater', 'day_of_week', 'weekend', 'hour',\n",
       "       'period_weight', 'day_of_year_weight', 'week_of_year_weight',\n",
       "       'day_of_month_weight', 'month_weight', 'travel_distance_to_Nairobi',\n",
       "       'Travel_time_to_out_skirt', 'Total_travel_time',\n",
       "       'Arrival_time_at_no_trafic_rush_time',\n",
       "       'delay_btw_previous_and_next_bus', 'delay_btw_next1bus',\n",
       "       'delay_btw_previous1bus', 'car_type_Bus', 'car_type_shuttle',\n",
       "       'travel_from_Awendo', 'travel_from_Homa Bay', 'travel_from_Kehancha',\n",
       "       'travel_from_Kendu Bay', 'travel_from_Keroka', 'travel_from_Keumbu',\n",
       "       'travel_from_Kijauri', 'travel_from_Kisii', 'travel_from_Mbita',\n",
       "       'travel_from_Migori', 'travel_from_Ndhiwa', 'travel_from_Nyachenge',\n",
       "       'travel_from_Oyugis', 'travel_from_Rodi', 'travel_from_Rongo',\n",
       "       'travel_from_Sirare', 'travel_from_Sori'],\n",
       "      dtype='object')"
      ]
     },
     "execution_count": 60,
     "metadata": {},
     "output_type": "execute_result"
    }
   ],
   "source": [
    "df.columns"
   ]
  },
  {
   "cell_type": "code",
   "execution_count": 61,
   "id": "fe85a543-d81c-41d4-aa7c-b7af4ad5e7bc",
   "metadata": {},
   "outputs": [],
   "source": [
    "X=df[['ride_id', 'max_capacity', 'Number_of_ticket', 'day_of_year', 'month',\n",
    "       'week', 'day_of_month', 'quater', 'day_of_week', 'weekend', 'hour',\n",
    "       'period_weight', 'day_of_year_weight', 'week_of_year_weight',\n",
    "       'day_of_month_weight', 'month_weight', 'travel_distance_to_Nairobi',\n",
    "       'Travel_time_to_out_skirt', 'Total_travel_time',\n",
    "       'Arrival_time_at_no_trafic_rush_time',\n",
    "       'delay_btw_previous_and_next_bus', 'delay_btw_next1bus',\n",
    "       'delay_btw_previous1bus', 'car_type_Bus', 'car_type_shuttle',\n",
    "       'travel_from_Awendo', 'travel_from_Homa Bay', 'travel_from_Kehancha',\n",
    "       'travel_from_Kendu Bay', 'travel_from_Keroka', 'travel_from_Keumbu',\n",
    "       'travel_from_Kijauri', 'travel_from_Kisii', 'travel_from_Mbita',\n",
    "       'travel_from_Migori', 'travel_from_Ndhiwa', 'travel_from_Nyachenge',\n",
    "       'travel_from_Oyugis', 'travel_from_Rodi', 'travel_from_Rongo',\n",
    "       'travel_from_Sirare', 'travel_from_Sori']]\n",
    "Y=df['Number_of_ticket']"
   ]
  },
  {
   "cell_type": "code",
   "execution_count": 62,
   "id": "b28b7995-315d-4cf5-82ff-f605d02e11f6",
   "metadata": {},
   "outputs": [],
   "source": [
    "from sklearn.model_selection import train_test_split\n",
    "from sklearn.linear_model import LinearRegression\n",
    "from sklearn.preprocessing import MinMaxScaler\n",
    "from sklearn.metrics import r2_score\n",
    "from sklearn.metrics import mean_absolute_error"
   ]
  },
  {
   "cell_type": "code",
   "execution_count": 63,
   "id": "f7ab34f2-5256-43fc-9d16-fe0e8a155b8c",
   "metadata": {},
   "outputs": [],
   "source": [
    "\n",
    "X_train,X_test,Y_train,Y_test=train_test_split(X,Y,test_size=0.2,random_state=50)\n",
    "scalling=MinMaxScaler()\n",
    "X_train=scalling.fit_transform(X_train)\n",
    "X_test=scalling.transform(X_test)"
   ]
  },
  {
   "cell_type": "markdown",
   "id": "f2ad4e84-4fb5-41c1-b036-e055b692028b",
   "metadata": {},
   "source": [
    "## Linear Regression Model"
   ]
  },
  {
   "cell_type": "code",
   "execution_count": 64,
   "id": "3b3941af-7400-4a16-bb4e-990def8ca187",
   "metadata": {},
   "outputs": [],
   "source": [
    "model1=LinearRegression()"
   ]
  },
  {
   "cell_type": "code",
   "execution_count": 65,
   "id": "8deb821b-9347-4396-8ed2-76cee1d5fa6e",
   "metadata": {},
   "outputs": [
    {
     "data": {
      "text/plain": [
       "LinearRegression()"
      ]
     },
     "execution_count": 65,
     "metadata": {},
     "output_type": "execute_result"
    }
   ],
   "source": [
    "model1.fit(X_train,Y_train)"
   ]
  },
  {
   "cell_type": "code",
   "execution_count": 66,
   "id": "e2948660-a507-4cc1-a03a-8cbb89757a04",
   "metadata": {},
   "outputs": [
    {
     "data": {
      "text/plain": [
       "1.0"
      ]
     },
     "execution_count": 66,
     "metadata": {},
     "output_type": "execute_result"
    }
   ],
   "source": [
    "model1.score(X_train,Y_train)"
   ]
  },
  {
   "cell_type": "code",
   "execution_count": 67,
   "id": "404fab1b-3409-4774-9c3a-eb00ddfe856c",
   "metadata": {},
   "outputs": [
    {
     "data": {
      "text/plain": [
       "1.0"
      ]
     },
     "execution_count": 67,
     "metadata": {},
     "output_type": "execute_result"
    }
   ],
   "source": [
    "model1.score(X_test,Y_test)"
   ]
  },
  {
   "cell_type": "code",
   "execution_count": 68,
   "id": "08ed5c9d-52bb-4bd3-89e7-a0a093d998ca",
   "metadata": {},
   "outputs": [
    {
     "data": {
      "text/plain": [
       "array([25.,  3.,  9., 13., 27., 34.,  8., 39., 21.,  9.])"
      ]
     },
     "execution_count": 68,
     "metadata": {},
     "output_type": "execute_result"
    }
   ],
   "source": [
    "model1.predict(X_train[:10])"
   ]
  },
  {
   "cell_type": "code",
   "execution_count": 69,
   "id": "2df8acef-9b79-4b11-9310-de60e13bd300",
   "metadata": {},
   "outputs": [
    {
     "data": {
      "text/plain": [
       "4088     25\n",
       "533       3\n",
       "6172      9\n",
       "23807    13\n",
       "46405    27\n",
       "40060    34\n",
       "1441      8\n",
       "43602    39\n",
       "26212    21\n",
       "994       9\n",
       "Name: Number_of_ticket, dtype: int64"
      ]
     },
     "execution_count": 69,
     "metadata": {},
     "output_type": "execute_result"
    }
   ],
   "source": [
    "Y_train[:10]"
   ]
  },
  {
   "cell_type": "code",
   "execution_count": 70,
   "id": "6c076939-8968-498a-b02e-ec67fd38b096",
   "metadata": {},
   "outputs": [
    {
     "name": "stdout",
     "output_type": "stream",
     "text": [
      "************ Train Evaluation metrics************\n",
      "Train MSE : 8.240253337841394e-27\n",
      "Train RMSE: 9.077584115744339e-14\n",
      "Train MAE : 7.051824083094218e-14\n",
      "Train MAPE: 2.6555270819734107e-07\n",
      "R Square: 1.0\n"
     ]
    }
   ],
   "source": [
    "print(\"************ Train Evaluation metrics************\")\n",
    "print(\"Train MSE :\",mean_squared_error(Y_train,model1.predict(X_train)))\n",
    "print(\"Train RMSE:\",np.sqrt(mean_squared_error(Y_train,model1.predict(X_train))))\n",
    "print(\"Train MAE :\",mean_absolute_error(Y_train,model1.predict(X_train)))\n",
    "print(\"Train MAPE:\",np.sqrt(mean_absolute_error(Y_train,model1.predict(X_train))))\n",
    "print(\"R Square:\",r2_score(Y_train,model1.predict(X_train)))"
   ]
  },
  {
   "cell_type": "code",
   "execution_count": 71,
   "id": "377315c9-ec7d-46f1-a784-ccad04027a2a",
   "metadata": {},
   "outputs": [
    {
     "name": "stdout",
     "output_type": "stream",
     "text": [
      "************ Test Evaluation metrics************\n",
      "Train MSE : 8.351061781519898e-27\n",
      "Train RMSE: 9.138414403779191e-14\n",
      "Train MAE : 7.06505776097125e-14\n",
      "Train MAPE: 2.65801763744548e-07\n",
      "R Square: 1.0\n"
     ]
    }
   ],
   "source": [
    "print(\"************ Test Evaluation metrics************\")\n",
    "print(\"Train MSE :\",mean_squared_error(Y_test,model1.predict(X_test)))\n",
    "print(\"Train RMSE:\",np.sqrt(mean_squared_error(Y_test,model1.predict(X_test))))\n",
    "print(\"Train MAE :\",mean_absolute_error(Y_test,model1.predict(X_test)))\n",
    "print(\"Train MAPE:\",np.sqrt(mean_absolute_error(Y_test,model1.predict(X_test))))\n",
    "print(\"R Square:\",r2_score(Y_test,model1.predict(X_test)))"
   ]
  },
  {
   "cell_type": "markdown",
   "id": "390d5e01-f178-4778-908b-5dc1f8848bc9",
   "metadata": {},
   "source": [
    "## Ridge Model"
   ]
  },
  {
   "cell_type": "code",
   "execution_count": 73,
   "id": "ff4fc2cd-a009-427f-9ff9-4a5a04f0b8f7",
   "metadata": {},
   "outputs": [],
   "source": [
    "from sklearn.model_selection import GridSearchCV\n",
    "from sklearn.linear_model import Ridge\n",
    "model2=Ridge()\n",
    "parameters={\n",
    "    'alpha':[0.00001,0.0001,0.001,0.004,0.008,0.01,0.04,0.08, 0.1, 1, 5, 8]\n",
    "}\n",
    "model2=GridSearchCV(model2,parameters,cv=5)"
   ]
  },
  {
   "cell_type": "code",
   "execution_count": 74,
   "id": "9d76e9c4-8b56-4c29-9739-316cbca8507e",
   "metadata": {},
   "outputs": [
    {
     "data": {
      "text/plain": [
       "GridSearchCV(cv=5, estimator=Ridge(),\n",
       "             param_grid={'alpha': [1e-05, 0.0001, 0.001, 0.004, 0.008, 0.01,\n",
       "                                   0.04, 0.08, 0.1, 1, 5, 8]})"
      ]
     },
     "execution_count": 74,
     "metadata": {},
     "output_type": "execute_result"
    }
   ],
   "source": [
    "model2.fit(X_train,Y_train)"
   ]
  },
  {
   "cell_type": "code",
   "execution_count": 75,
   "id": "1b083c79-7c6e-4b5a-836a-8afeaef9f9d6",
   "metadata": {},
   "outputs": [
    {
     "data": {
      "text/plain": [
       "1.0"
      ]
     },
     "execution_count": 75,
     "metadata": {},
     "output_type": "execute_result"
    }
   ],
   "source": [
    "model2.score(X_train,Y_train)"
   ]
  },
  {
   "cell_type": "code",
   "execution_count": 76,
   "id": "3dd01ada-43bd-4fd3-922d-b487fbd9674a",
   "metadata": {},
   "outputs": [
    {
     "data": {
      "text/plain": [
       "1.0"
      ]
     },
     "execution_count": 76,
     "metadata": {},
     "output_type": "execute_result"
    }
   ],
   "source": [
    "model2.score(X_test,Y_test)"
   ]
  },
  {
   "cell_type": "code",
   "execution_count": 77,
   "id": "fd907012-b802-4ebb-8bf2-c318546b085d",
   "metadata": {},
   "outputs": [
    {
     "data": {
      "text/plain": [
       "array([25.00000004,  3.00000002,  9.        , 13.00000007, 26.99999994,\n",
       "       33.99999992,  8.00000001, 38.99999989, 20.99999998,  8.99999999])"
      ]
     },
     "execution_count": 77,
     "metadata": {},
     "output_type": "execute_result"
    }
   ],
   "source": [
    "model2.predict(X_train[:10])"
   ]
  },
  {
   "cell_type": "code",
   "execution_count": 78,
   "id": "7f1c2794-d5b4-4b43-9505-1c4a046174c6",
   "metadata": {},
   "outputs": [
    {
     "data": {
      "text/plain": [
       "{'alpha': 1e-05}"
      ]
     },
     "execution_count": 78,
     "metadata": {},
     "output_type": "execute_result"
    }
   ],
   "source": [
    "model2.best_params_"
   ]
  },
  {
   "cell_type": "code",
   "execution_count": 79,
   "id": "a72a47bf-4122-4b9c-a3e3-4ba7c4697ec3",
   "metadata": {},
   "outputs": [
    {
     "data": {
      "text/plain": [
       "4088     25\n",
       "533       3\n",
       "6172      9\n",
       "23807    13\n",
       "46405    27\n",
       "40060    34\n",
       "1441      8\n",
       "43602    39\n",
       "26212    21\n",
       "994       9\n",
       "Name: Number_of_ticket, dtype: int64"
      ]
     },
     "execution_count": 79,
     "metadata": {},
     "output_type": "execute_result"
    }
   ],
   "source": [
    "Y_train[:10]"
   ]
  },
  {
   "cell_type": "code",
   "execution_count": 80,
   "id": "0737a96c-5133-43ec-8ffe-78cad52f9f1a",
   "metadata": {},
   "outputs": [
    {
     "name": "stdout",
     "output_type": "stream",
     "text": [
      "************ Train Evaluation metrics************\n",
      "Train MSE : 5.383315414760237e-15\n",
      "Train RMSE: 7.337108023438279e-08\n",
      "Train MAE : 5.2355049223464424e-08\n",
      "Train MAPE: 0.00022881225759006972\n",
      "R Square: 1.0\n"
     ]
    }
   ],
   "source": [
    "print(\"************ Train Evaluation metrics************\")\n",
    "print(\"Train MSE :\",mean_squared_error(Y_train,model2.predict(X_train)))\n",
    "print(\"Train RMSE:\",np.sqrt(mean_squared_error(Y_train,model2.predict(X_train))))\n",
    "print(\"Train MAE :\",mean_absolute_error(Y_train,model2.predict(X_train)))\n",
    "print(\"Train MAPE:\",np.sqrt(mean_absolute_error(Y_train,model2.predict(X_train))))\n",
    "print(\"R Square:\",r2_score(Y_train,model2.predict(X_train)))"
   ]
  },
  {
   "cell_type": "code",
   "execution_count": 81,
   "id": "5a5308e9-e0ea-4fed-83c0-0d20ac1aa8b3",
   "metadata": {},
   "outputs": [
    {
     "name": "stdout",
     "output_type": "stream",
     "text": [
      "************ Test Evaluation metrics************\n",
      "Train MSE : 5.433532423233442e-15\n",
      "Train RMSE: 7.371249841942303e-08\n",
      "Train MAE : 5.2720036522704233e-08\n",
      "Train MAPE: 0.00022960844174965396\n",
      "R Square: 1.0\n"
     ]
    }
   ],
   "source": [
    "print(\"************ Test Evaluation metrics************\")\n",
    "print(\"Train MSE :\",mean_squared_error(Y_test,model2.predict(X_test)))\n",
    "print(\"Train RMSE:\",np.sqrt(mean_squared_error(Y_test,model2.predict(X_test))))\n",
    "print(\"Train MAE :\",mean_absolute_error(Y_test,model2.predict(X_test)))\n",
    "print(\"Train MAPE:\",np.sqrt(mean_absolute_error(Y_test,model2.predict(X_test))))\n",
    "print(\"R Square:\",r2_score(Y_test,model2.predict(X_test)))"
   ]
  },
  {
   "cell_type": "markdown",
   "id": "e0d9f269-5a2a-48b5-b914-e3d78ff8d4fa",
   "metadata": {},
   "source": [
    "## Lasso Model"
   ]
  },
  {
   "cell_type": "code",
   "execution_count": 82,
   "id": "2420317b-6af3-4768-b340-9849db769bf1",
   "metadata": {},
   "outputs": [],
   "source": [
    "from sklearn.linear_model import Lasso\n",
    "model3=Ridge()\n",
    "parameters={\n",
    "    'alpha':[0.00001,0.0001,0.001,0.004,0.008,0.01,0.04,0.08, 0.1, 1, 5, 8]\n",
    "}\n",
    "model3=GridSearchCV(model3,parameters,cv=5)"
   ]
  },
  {
   "cell_type": "code",
   "execution_count": 83,
   "id": "0e9c711d-f394-4a2f-9ea2-f90119247abd",
   "metadata": {},
   "outputs": [
    {
     "data": {
      "text/plain": [
       "GridSearchCV(cv=5, estimator=Ridge(),\n",
       "             param_grid={'alpha': [1e-05, 0.0001, 0.001, 0.004, 0.008, 0.01,\n",
       "                                   0.04, 0.08, 0.1, 1, 5, 8]})"
      ]
     },
     "execution_count": 83,
     "metadata": {},
     "output_type": "execute_result"
    }
   ],
   "source": [
    "model3.fit(X_train,Y_train)"
   ]
  },
  {
   "cell_type": "code",
   "execution_count": 84,
   "id": "8b13bcdc-4ed6-42f9-8b48-8f83ff7da2d7",
   "metadata": {},
   "outputs": [
    {
     "data": {
      "text/plain": [
       "1.0"
      ]
     },
     "execution_count": 84,
     "metadata": {},
     "output_type": "execute_result"
    }
   ],
   "source": [
    "model3.score(X_train,Y_train)"
   ]
  },
  {
   "cell_type": "code",
   "execution_count": 85,
   "id": "1993fc32-b79e-49d9-b263-e66342fb5d94",
   "metadata": {},
   "outputs": [
    {
     "data": {
      "text/plain": [
       "1.0"
      ]
     },
     "execution_count": 85,
     "metadata": {},
     "output_type": "execute_result"
    }
   ],
   "source": [
    "model3.score(X_test,Y_test)"
   ]
  },
  {
   "cell_type": "code",
   "execution_count": 86,
   "id": "38df62b9-3d55-46de-80fa-e588179f8ba9",
   "metadata": {},
   "outputs": [
    {
     "data": {
      "text/plain": [
       "{'alpha': 1e-05}"
      ]
     },
     "execution_count": 86,
     "metadata": {},
     "output_type": "execute_result"
    }
   ],
   "source": [
    "model3.best_params_"
   ]
  },
  {
   "cell_type": "code",
   "execution_count": 87,
   "id": "2de8d525-2d6e-4770-a518-2cbaa5e276c5",
   "metadata": {},
   "outputs": [
    {
     "name": "stdout",
     "output_type": "stream",
     "text": [
      "************ Train Evaluation metrics************\n",
      "Train MSE : 5.383315414760237e-15\n",
      "Train RMSE: 7.337108023438279e-08\n",
      "Train MAE : 5.2355049223464424e-08\n",
      "Train MAPE: 0.00022881225759006972\n",
      "R Square: 1.0\n"
     ]
    }
   ],
   "source": [
    "print(\"************ Train Evaluation metrics************\")\n",
    "print(\"Train MSE :\",mean_squared_error(Y_train,model3.predict(X_train)))\n",
    "print(\"Train RMSE:\",np.sqrt(mean_squared_error(Y_train,model3.predict(X_train))))\n",
    "print(\"Train MAE :\",mean_absolute_error(Y_train,model3.predict(X_train)))\n",
    "print(\"Train MAPE:\",np.sqrt(mean_absolute_error(Y_train,model3.predict(X_train))))\n",
    "print(\"R Square:\",r2_score(Y_train,model3.predict(X_train)))"
   ]
  },
  {
   "cell_type": "code",
   "execution_count": 88,
   "id": "cef85d3a-4ae7-4f82-9f31-1f92766d1149",
   "metadata": {},
   "outputs": [
    {
     "name": "stdout",
     "output_type": "stream",
     "text": [
      "************ Test Evaluation metrics************\n",
      "Train MSE : 5.433532423233442e-15\n",
      "Train RMSE: 7.371249841942303e-08\n",
      "Train MAE : 5.2720036522704233e-08\n",
      "Train MAPE: 0.00022960844174965396\n",
      "R Square: 1.0\n"
     ]
    }
   ],
   "source": [
    "print(\"************ Test Evaluation metrics************\")\n",
    "print(\"Train MSE :\",mean_squared_error(Y_test,model3.predict(X_test)))\n",
    "print(\"Train RMSE:\",np.sqrt(mean_squared_error(Y_test,model3.predict(X_test))))\n",
    "print(\"Train MAE :\",mean_absolute_error(Y_test,model3.predict(X_test)))\n",
    "print(\"Train MAPE:\",np.sqrt(mean_absolute_error(Y_test,model3.predict(X_test))))\n",
    "print(\"R Square:\",r2_score(Y_test,model3.predict(X_test)))"
   ]
  },
  {
   "cell_type": "markdown",
   "id": "90d303c7-85ca-409b-93da-52da8df5b219",
   "metadata": {},
   "source": [
    "## Random Forest Regressor"
   ]
  },
  {
   "cell_type": "code",
   "execution_count": 89,
   "id": "cab634ec-0856-4488-9a0f-177d0991afd7",
   "metadata": {},
   "outputs": [],
   "source": [
    "from sklearn.ensemble import RandomForestRegressor"
   ]
  },
  {
   "cell_type": "code",
   "execution_count": 90,
   "id": "544822ec-1ae1-4cba-a5b4-fb6b55ef15bd",
   "metadata": {},
   "outputs": [],
   "source": [
    "model4=RandomForestRegressor()\n",
    "parameters={\n",
    "    'n_estimators':[100,120,150,170,200,220,250,280],\n",
    "    'max_depth':[5,8,10,12,15,18]\n",
    "}\n",
    "model4=GridSearchCV(model4,parameters,cv=5)"
   ]
  },
  {
   "cell_type": "code",
   "execution_count": 91,
   "id": "0a3c5d76-8ad7-4bc1-b17d-50d5edc0b01d",
   "metadata": {},
   "outputs": [
    {
     "data": {
      "text/plain": [
       "GridSearchCV(cv=5, estimator=RandomForestRegressor(),\n",
       "             param_grid={'max_depth': [5, 8, 10, 12, 15, 18],\n",
       "                         'n_estimators': [100, 120, 150, 170, 200, 220, 250,\n",
       "                                          280]})"
      ]
     },
     "execution_count": 91,
     "metadata": {},
     "output_type": "execute_result"
    }
   ],
   "source": [
    "model4.fit(X_train,Y_train)"
   ]
  },
  {
   "cell_type": "code",
   "execution_count": 92,
   "id": "57d68ba7-3847-47f9-89d1-fac4098408a1",
   "metadata": {},
   "outputs": [
    {
     "data": {
      "text/plain": [
       "1.0"
      ]
     },
     "execution_count": 92,
     "metadata": {},
     "output_type": "execute_result"
    }
   ],
   "source": [
    "model4.score(X_train,Y_train)"
   ]
  },
  {
   "cell_type": "code",
   "execution_count": 93,
   "id": "482b794c-732d-463d-8d7d-7607b89ef0fc",
   "metadata": {},
   "outputs": [
    {
     "data": {
      "text/plain": [
       "1.0"
      ]
     },
     "execution_count": 93,
     "metadata": {},
     "output_type": "execute_result"
    }
   ],
   "source": [
    "model4.score(X_test,Y_test)"
   ]
  },
  {
   "cell_type": "code",
   "execution_count": 94,
   "id": "32e5f3da-90e2-488d-a993-558342885c29",
   "metadata": {},
   "outputs": [
    {
     "data": {
      "text/plain": [
       "{'max_depth': 8, 'n_estimators': 100}"
      ]
     },
     "execution_count": 94,
     "metadata": {},
     "output_type": "execute_result"
    }
   ],
   "source": [
    "model4.best_params_"
   ]
  },
  {
   "cell_type": "code",
   "execution_count": 95,
   "id": "830240eb-775b-46f4-9c36-24ada7b2da4a",
   "metadata": {},
   "outputs": [
    {
     "data": {
      "text/plain": [
       "array([25.,  3.,  9., 13., 27., 34.,  8., 39., 21.,  9.])"
      ]
     },
     "execution_count": 95,
     "metadata": {},
     "output_type": "execute_result"
    }
   ],
   "source": [
    "model4.predict(X_train[:10])"
   ]
  },
  {
   "cell_type": "code",
   "execution_count": 96,
   "id": "d0889f49-4275-4eae-836c-8a9a8fc4b2b1",
   "metadata": {},
   "outputs": [
    {
     "data": {
      "text/plain": [
       "4088     25\n",
       "533       3\n",
       "6172      9\n",
       "23807    13\n",
       "46405    27\n",
       "40060    34\n",
       "1441      8\n",
       "43602    39\n",
       "26212    21\n",
       "994       9\n",
       "Name: Number_of_ticket, dtype: int64"
      ]
     },
     "execution_count": 96,
     "metadata": {},
     "output_type": "execute_result"
    }
   ],
   "source": [
    "Y_train[:10]"
   ]
  },
  {
   "cell_type": "code",
   "execution_count": 97,
   "id": "b8f10199-e4de-4781-b858-6c536733eaab",
   "metadata": {},
   "outputs": [
    {
     "name": "stdout",
     "output_type": "stream",
     "text": [
      "************ Train Evaluation metrics************\n",
      "Train MSE : 0.0\n",
      "Train RMSE: 0.0\n",
      "Train MAE : 0.0\n",
      "Train MAPE: 0.0\n",
      "R Square: 1.0\n"
     ]
    }
   ],
   "source": [
    "print(\"************ Train Evaluation metrics************\")\n",
    "print(\"Train MSE :\",mean_squared_error(Y_train,model4.predict(X_train)))\n",
    "print(\"Train RMSE:\",np.sqrt(mean_squared_error(Y_train,model4.predict(X_train))))\n",
    "print(\"Train MAE :\",mean_absolute_error(Y_train,model4.predict(X_train)))\n",
    "print(\"Train MAPE:\",np.sqrt(mean_absolute_error(Y_train,model4.predict(X_train))))\n",
    "print(\"R Square:\",r2_score(Y_train,model4.predict(X_train)))"
   ]
  },
  {
   "cell_type": "code",
   "execution_count": 98,
   "id": "ae6a8a8d-a88d-4ac0-bd49-9b78bc0b42bc",
   "metadata": {},
   "outputs": [
    {
     "name": "stdout",
     "output_type": "stream",
     "text": [
      "************ Test Evaluation metrics************\n",
      "Train MSE : 0.0\n",
      "Train RMSE: 0.0\n",
      "Train MAE : 0.0\n",
      "Train MAPE: 0.0\n",
      "R Square: 1.0\n"
     ]
    }
   ],
   "source": [
    "print(\"************ Test Evaluation metrics************\")\n",
    "print(\"Train MSE :\",mean_squared_error(Y_test,model4.predict(X_test)))\n",
    "print(\"Train RMSE:\",np.sqrt(mean_squared_error(Y_test,model4.predict(X_test))))\n",
    "print(\"Train MAE :\",mean_absolute_error(Y_test,model4.predict(X_test)))\n",
    "print(\"Train MAPE:\",np.sqrt(mean_absolute_error(Y_test,model4.predict(X_test))))\n",
    "print(\"R Square:\",r2_score(Y_test,model4.predict(X_test)))"
   ]
  },
  {
   "cell_type": "markdown",
   "id": "31790711-cc73-46b2-b0f9-27a65116d712",
   "metadata": {},
   "source": [
    "## Decision Tree Regressor"
   ]
  },
  {
   "cell_type": "code",
   "execution_count": 99,
   "id": "32c5120d-4038-434d-b755-ade9cb9048fc",
   "metadata": {},
   "outputs": [],
   "source": [
    "from sklearn.tree import DecisionTreeRegressor\n",
    "from sklearn.model_selection import GridSearchCV"
   ]
  },
  {
   "cell_type": "code",
   "execution_count": 100,
   "id": "b68f9cc1-4ef9-49ca-a780-d1db6eb3f5f6",
   "metadata": {},
   "outputs": [],
   "source": [
    "model5=DecisionTreeRegressor()\n",
    "parameters={\n",
    "    'criterion':['squared_error', 'absolute_error'],\n",
    "    'max_depth':[5,8,10,12,15,18]\n",
    "}\n",
    "model5=GridSearchCV(model5,parameters,cv=5)"
   ]
  },
  {
   "cell_type": "code",
   "execution_count": 101,
   "id": "90777d86-c3f1-45c1-96fc-fcfa22c3be49",
   "metadata": {},
   "outputs": [
    {
     "data": {
      "text/plain": [
       "GridSearchCV(cv=5, estimator=DecisionTreeRegressor(),\n",
       "             param_grid={'criterion': ['squared_error', 'absolute_error'],\n",
       "                         'max_depth': [5, 8, 10, 12, 15, 18]})"
      ]
     },
     "execution_count": 101,
     "metadata": {},
     "output_type": "execute_result"
    }
   ],
   "source": [
    "model5.fit(X_train,Y_train)"
   ]
  },
  {
   "cell_type": "code",
   "execution_count": 102,
   "id": "39e99fb6-3768-46b9-a56e-11cc903ac688",
   "metadata": {},
   "outputs": [
    {
     "data": {
      "text/plain": [
       "1.0"
      ]
     },
     "execution_count": 102,
     "metadata": {},
     "output_type": "execute_result"
    }
   ],
   "source": [
    "model5.score(X_train,Y_train)"
   ]
  },
  {
   "cell_type": "code",
   "execution_count": 103,
   "id": "3aa64597-3d60-4133-8c75-f7d082a090ba",
   "metadata": {},
   "outputs": [
    {
     "data": {
      "text/plain": [
       "1.0"
      ]
     },
     "execution_count": 103,
     "metadata": {},
     "output_type": "execute_result"
    }
   ],
   "source": [
    "model5.score(X_test,Y_test)"
   ]
  },
  {
   "cell_type": "code",
   "execution_count": 104,
   "id": "457041fa-42e4-49f7-ab33-585535b7320b",
   "metadata": {},
   "outputs": [
    {
     "data": {
      "text/plain": [
       "{'criterion': 'squared_error', 'max_depth': 8}"
      ]
     },
     "execution_count": 104,
     "metadata": {},
     "output_type": "execute_result"
    }
   ],
   "source": [
    "model5.best_params_"
   ]
  },
  {
   "cell_type": "code",
   "execution_count": 105,
   "id": "321abf1a-88a7-47b2-9819-f252dcec0d7f",
   "metadata": {},
   "outputs": [
    {
     "name": "stdout",
     "output_type": "stream",
     "text": [
      "************ Train Evaluation metrics************\n",
      "Train MSE : 0.0\n",
      "Train RMSE: 0.0\n",
      "Train MAE : 0.0\n",
      "Train MAPE: 0.0\n",
      "R Square: 1.0\n"
     ]
    }
   ],
   "source": [
    "print(\"************ Train Evaluation metrics************\")\n",
    "print(\"Train MSE :\",mean_squared_error(Y_train,model5.predict(X_train)))\n",
    "print(\"Train RMSE:\",np.sqrt(mean_squared_error(Y_train,model5.predict(X_train))))\n",
    "print(\"Train MAE :\",mean_absolute_error(Y_train,model5.predict(X_train)))\n",
    "print(\"Train MAPE:\",np.sqrt(mean_absolute_error(Y_train,model5.predict(X_train))))\n",
    "print(\"R Square:\",r2_score(Y_train,model5.predict(X_train)))"
   ]
  },
  {
   "cell_type": "code",
   "execution_count": 106,
   "id": "f28d16df-23b8-47de-8f98-4ab1bb29dd9c",
   "metadata": {},
   "outputs": [
    {
     "name": "stdout",
     "output_type": "stream",
     "text": [
      "************ Test Evaluation metrics************\n",
      "Train MSE : 0.0\n",
      "Train RMSE: 0.0\n",
      "Train MAE : 0.0\n",
      "Train MAPE: 0.0\n",
      "R Square: 1.0\n"
     ]
    }
   ],
   "source": [
    "print(\"************ Test Evaluation metrics************\")\n",
    "print(\"Train MSE :\",mean_squared_error(Y_test,model5.predict(X_test)))\n",
    "print(\"Train RMSE:\",np.sqrt(mean_squared_error(Y_test,model5.predict(X_test))))\n",
    "print(\"Train MAE :\",mean_absolute_error(Y_test,model5.predict(X_test)))\n",
    "print(\"Train MAPE:\",np.sqrt(mean_absolute_error(Y_test,model5.predict(X_test))))\n",
    "print(\"R Square:\",r2_score(Y_test,model5.predict(X_test)))"
   ]
  },
  {
   "cell_type": "markdown",
   "id": "0d959996-aab0-493d-9088-286dd581edef",
   "metadata": {},
   "source": [
    "## XGB Regressor Model"
   ]
  },
  {
   "cell_type": "code",
   "execution_count": 107,
   "id": "59774848-fc43-4d17-8819-c26e77d8f9dd",
   "metadata": {},
   "outputs": [],
   "source": [
    "import xgboost as xg\n",
    "model6=xg.XGBRegressor(objective ='reg:linear',\n",
    "                  n_estimators = 10, seed = 123)\n",
    "parameters={\n",
    "    'n_estimators':[10,15,20,25,30],\n",
    "    'max_depth':[10,12,15,18]\n",
    "}\n",
    "model6=GridSearchCV(model6,parameters,cv=5)"
   ]
  },
  {
   "cell_type": "code",
   "execution_count": 108,
   "id": "e7582c18-5f66-40ca-a448-f4ec5dbf9408",
   "metadata": {},
   "outputs": [
    {
     "name": "stdout",
     "output_type": "stream",
     "text": [
      "[12:05:05] WARNING: ../src/objective/regression_obj.cu:213: reg:linear is now deprecated in favor of reg:squarederror.\n",
      "[12:05:05] WARNING: ../src/objective/regression_obj.cu:213: reg:linear is now deprecated in favor of reg:squarederror.\n",
      "[12:05:06] WARNING: ../src/objective/regression_obj.cu:213: reg:linear is now deprecated in favor of reg:squarederror.\n",
      "[12:05:06] WARNING: ../src/objective/regression_obj.cu:213: reg:linear is now deprecated in favor of reg:squarederror.\n",
      "[12:05:06] WARNING: ../src/objective/regression_obj.cu:213: reg:linear is now deprecated in favor of reg:squarederror.\n",
      "[12:05:06] WARNING: ../src/objective/regression_obj.cu:213: reg:linear is now deprecated in favor of reg:squarederror.\n",
      "[12:05:06] WARNING: ../src/objective/regression_obj.cu:213: reg:linear is now deprecated in favor of reg:squarederror.\n",
      "[12:05:07] WARNING: ../src/objective/regression_obj.cu:213: reg:linear is now deprecated in favor of reg:squarederror.\n",
      "[12:05:07] WARNING: ../src/objective/regression_obj.cu:213: reg:linear is now deprecated in favor of reg:squarederror.\n",
      "[12:05:08] WARNING: ../src/objective/regression_obj.cu:213: reg:linear is now deprecated in favor of reg:squarederror.\n",
      "[12:05:08] WARNING: ../src/objective/regression_obj.cu:213: reg:linear is now deprecated in favor of reg:squarederror.\n",
      "[12:05:08] WARNING: ../src/objective/regression_obj.cu:213: reg:linear is now deprecated in favor of reg:squarederror.\n",
      "[12:05:09] WARNING: ../src/objective/regression_obj.cu:213: reg:linear is now deprecated in favor of reg:squarederror.\n",
      "[12:05:09] WARNING: ../src/objective/regression_obj.cu:213: reg:linear is now deprecated in favor of reg:squarederror.\n",
      "[12:05:10] WARNING: ../src/objective/regression_obj.cu:213: reg:linear is now deprecated in favor of reg:squarederror.\n",
      "[12:05:11] WARNING: ../src/objective/regression_obj.cu:213: reg:linear is now deprecated in favor of reg:squarederror.\n",
      "[12:05:11] WARNING: ../src/objective/regression_obj.cu:213: reg:linear is now deprecated in favor of reg:squarederror.\n",
      "[12:05:12] WARNING: ../src/objective/regression_obj.cu:213: reg:linear is now deprecated in favor of reg:squarederror.\n",
      "[12:05:12] WARNING: ../src/objective/regression_obj.cu:213: reg:linear is now deprecated in favor of reg:squarederror.\n",
      "[12:05:13] WARNING: ../src/objective/regression_obj.cu:213: reg:linear is now deprecated in favor of reg:squarederror.\n",
      "[12:05:13] WARNING: ../src/objective/regression_obj.cu:213: reg:linear is now deprecated in favor of reg:squarederror.\n",
      "[12:05:14] WARNING: ../src/objective/regression_obj.cu:213: reg:linear is now deprecated in favor of reg:squarederror.\n",
      "[12:05:14] WARNING: ../src/objective/regression_obj.cu:213: reg:linear is now deprecated in favor of reg:squarederror.\n",
      "[12:05:15] WARNING: ../src/objective/regression_obj.cu:213: reg:linear is now deprecated in favor of reg:squarederror.\n",
      "[12:05:16] WARNING: ../src/objective/regression_obj.cu:213: reg:linear is now deprecated in favor of reg:squarederror.\n",
      "[12:05:16] WARNING: ../src/objective/regression_obj.cu:213: reg:linear is now deprecated in favor of reg:squarederror.\n",
      "[12:05:17] WARNING: ../src/objective/regression_obj.cu:213: reg:linear is now deprecated in favor of reg:squarederror.\n",
      "[12:05:17] WARNING: ../src/objective/regression_obj.cu:213: reg:linear is now deprecated in favor of reg:squarederror.\n",
      "[12:05:17] WARNING: ../src/objective/regression_obj.cu:213: reg:linear is now deprecated in favor of reg:squarederror.\n",
      "[12:05:17] WARNING: ../src/objective/regression_obj.cu:213: reg:linear is now deprecated in favor of reg:squarederror.\n",
      "[12:05:17] WARNING: ../src/objective/regression_obj.cu:213: reg:linear is now deprecated in favor of reg:squarederror.\n",
      "[12:05:18] WARNING: ../src/objective/regression_obj.cu:213: reg:linear is now deprecated in favor of reg:squarederror.\n",
      "[12:05:18] WARNING: ../src/objective/regression_obj.cu:213: reg:linear is now deprecated in favor of reg:squarederror.\n",
      "[12:05:18] WARNING: ../src/objective/regression_obj.cu:213: reg:linear is now deprecated in favor of reg:squarederror.\n",
      "[12:05:19] WARNING: ../src/objective/regression_obj.cu:213: reg:linear is now deprecated in favor of reg:squarederror.\n",
      "[12:05:19] WARNING: ../src/objective/regression_obj.cu:213: reg:linear is now deprecated in favor of reg:squarederror.\n",
      "[12:05:19] WARNING: ../src/objective/regression_obj.cu:213: reg:linear is now deprecated in favor of reg:squarederror.\n",
      "[12:05:20] WARNING: ../src/objective/regression_obj.cu:213: reg:linear is now deprecated in favor of reg:squarederror.\n",
      "[12:05:20] WARNING: ../src/objective/regression_obj.cu:213: reg:linear is now deprecated in favor of reg:squarederror.\n",
      "[12:05:21] WARNING: ../src/objective/regression_obj.cu:213: reg:linear is now deprecated in favor of reg:squarederror.\n",
      "[12:05:21] WARNING: ../src/objective/regression_obj.cu:213: reg:linear is now deprecated in favor of reg:squarederror.\n",
      "[12:05:22] WARNING: ../src/objective/regression_obj.cu:213: reg:linear is now deprecated in favor of reg:squarederror.\n",
      "[12:05:22] WARNING: ../src/objective/regression_obj.cu:213: reg:linear is now deprecated in favor of reg:squarederror.\n",
      "[12:05:23] WARNING: ../src/objective/regression_obj.cu:213: reg:linear is now deprecated in favor of reg:squarederror.\n",
      "[12:05:23] WARNING: ../src/objective/regression_obj.cu:213: reg:linear is now deprecated in favor of reg:squarederror.\n",
      "[12:05:24] WARNING: ../src/objective/regression_obj.cu:213: reg:linear is now deprecated in favor of reg:squarederror.\n",
      "[12:05:24] WARNING: ../src/objective/regression_obj.cu:213: reg:linear is now deprecated in favor of reg:squarederror.\n",
      "[12:05:25] WARNING: ../src/objective/regression_obj.cu:213: reg:linear is now deprecated in favor of reg:squarederror.\n",
      "[12:05:26] WARNING: ../src/objective/regression_obj.cu:213: reg:linear is now deprecated in favor of reg:squarederror.\n",
      "[12:05:26] WARNING: ../src/objective/regression_obj.cu:213: reg:linear is now deprecated in favor of reg:squarederror.\n",
      "[12:05:27] WARNING: ../src/objective/regression_obj.cu:213: reg:linear is now deprecated in favor of reg:squarederror.\n",
      "[12:05:27] WARNING: ../src/objective/regression_obj.cu:213: reg:linear is now deprecated in favor of reg:squarederror.\n",
      "[12:05:27] WARNING: ../src/objective/regression_obj.cu:213: reg:linear is now deprecated in favor of reg:squarederror.\n",
      "[12:05:27] WARNING: ../src/objective/regression_obj.cu:213: reg:linear is now deprecated in favor of reg:squarederror.\n",
      "[12:05:28] WARNING: ../src/objective/regression_obj.cu:213: reg:linear is now deprecated in favor of reg:squarederror.\n",
      "[12:05:28] WARNING: ../src/objective/regression_obj.cu:213: reg:linear is now deprecated in favor of reg:squarederror.\n",
      "[12:05:28] WARNING: ../src/objective/regression_obj.cu:213: reg:linear is now deprecated in favor of reg:squarederror.\n",
      "[12:05:28] WARNING: ../src/objective/regression_obj.cu:213: reg:linear is now deprecated in favor of reg:squarederror.\n",
      "[12:05:29] WARNING: ../src/objective/regression_obj.cu:213: reg:linear is now deprecated in favor of reg:squarederror.\n",
      "[12:05:29] WARNING: ../src/objective/regression_obj.cu:213: reg:linear is now deprecated in favor of reg:squarederror.\n",
      "[12:05:29] WARNING: ../src/objective/regression_obj.cu:213: reg:linear is now deprecated in favor of reg:squarederror.\n",
      "[12:05:30] WARNING: ../src/objective/regression_obj.cu:213: reg:linear is now deprecated in favor of reg:squarederror.\n",
      "[12:05:31] WARNING: ../src/objective/regression_obj.cu:213: reg:linear is now deprecated in favor of reg:squarederror.\n",
      "[12:05:32] WARNING: ../src/objective/regression_obj.cu:213: reg:linear is now deprecated in favor of reg:squarederror.\n",
      "[12:05:33] WARNING: ../src/objective/regression_obj.cu:213: reg:linear is now deprecated in favor of reg:squarederror.\n",
      "[12:05:33] WARNING: ../src/objective/regression_obj.cu:213: reg:linear is now deprecated in favor of reg:squarederror.\n",
      "[12:05:34] WARNING: ../src/objective/regression_obj.cu:213: reg:linear is now deprecated in favor of reg:squarederror.\n",
      "[12:05:35] WARNING: ../src/objective/regression_obj.cu:213: reg:linear is now deprecated in favor of reg:squarederror.\n",
      "[12:05:35] WARNING: ../src/objective/regression_obj.cu:213: reg:linear is now deprecated in favor of reg:squarederror.\n",
      "[12:05:36] WARNING: ../src/objective/regression_obj.cu:213: reg:linear is now deprecated in favor of reg:squarederror.\n",
      "[12:05:37] WARNING: ../src/objective/regression_obj.cu:213: reg:linear is now deprecated in favor of reg:squarederror.\n",
      "[12:05:38] WARNING: ../src/objective/regression_obj.cu:213: reg:linear is now deprecated in favor of reg:squarederror.\n",
      "[12:05:39] WARNING: ../src/objective/regression_obj.cu:213: reg:linear is now deprecated in favor of reg:squarederror.\n",
      "[12:05:39] WARNING: ../src/objective/regression_obj.cu:213: reg:linear is now deprecated in favor of reg:squarederror.\n",
      "[12:05:40] WARNING: ../src/objective/regression_obj.cu:213: reg:linear is now deprecated in favor of reg:squarederror.\n",
      "[12:05:40] WARNING: ../src/objective/regression_obj.cu:213: reg:linear is now deprecated in favor of reg:squarederror.\n",
      "[12:05:41] WARNING: ../src/objective/regression_obj.cu:213: reg:linear is now deprecated in favor of reg:squarederror.\n",
      "[12:05:41] WARNING: ../src/objective/regression_obj.cu:213: reg:linear is now deprecated in favor of reg:squarederror.\n",
      "[12:05:41] WARNING: ../src/objective/regression_obj.cu:213: reg:linear is now deprecated in favor of reg:squarederror.\n",
      "[12:05:41] WARNING: ../src/objective/regression_obj.cu:213: reg:linear is now deprecated in favor of reg:squarederror.\n",
      "[12:05:42] WARNING: ../src/objective/regression_obj.cu:213: reg:linear is now deprecated in favor of reg:squarederror.\n",
      "[12:05:42] WARNING: ../src/objective/regression_obj.cu:213: reg:linear is now deprecated in favor of reg:squarederror.\n",
      "[12:05:42] WARNING: ../src/objective/regression_obj.cu:213: reg:linear is now deprecated in favor of reg:squarederror.\n",
      "[12:05:42] WARNING: ../src/objective/regression_obj.cu:213: reg:linear is now deprecated in favor of reg:squarederror.\n",
      "[12:05:43] WARNING: ../src/objective/regression_obj.cu:213: reg:linear is now deprecated in favor of reg:squarederror.\n",
      "[12:05:43] WARNING: ../src/objective/regression_obj.cu:213: reg:linear is now deprecated in favor of reg:squarederror.\n",
      "[12:05:43] WARNING: ../src/objective/regression_obj.cu:213: reg:linear is now deprecated in favor of reg:squarederror.\n",
      "[12:05:44] WARNING: ../src/objective/regression_obj.cu:213: reg:linear is now deprecated in favor of reg:squarederror.\n",
      "[12:05:45] WARNING: ../src/objective/regression_obj.cu:213: reg:linear is now deprecated in favor of reg:squarederror.\n",
      "[12:05:45] WARNING: ../src/objective/regression_obj.cu:213: reg:linear is now deprecated in favor of reg:squarederror.\n",
      "[12:05:46] WARNING: ../src/objective/regression_obj.cu:213: reg:linear is now deprecated in favor of reg:squarederror.\n",
      "[12:05:47] WARNING: ../src/objective/regression_obj.cu:213: reg:linear is now deprecated in favor of reg:squarederror.\n",
      "[12:05:49] WARNING: ../src/objective/regression_obj.cu:213: reg:linear is now deprecated in favor of reg:squarederror.\n",
      "[12:05:49] WARNING: ../src/objective/regression_obj.cu:213: reg:linear is now deprecated in favor of reg:squarederror.\n",
      "[12:05:49] WARNING: ../src/objective/regression_obj.cu:213: reg:linear is now deprecated in favor of reg:squarederror.\n",
      "[12:05:50] WARNING: ../src/objective/regression_obj.cu:213: reg:linear is now deprecated in favor of reg:squarederror.\n",
      "[12:05:51] WARNING: ../src/objective/regression_obj.cu:213: reg:linear is now deprecated in favor of reg:squarederror.\n",
      "[12:05:51] WARNING: ../src/objective/regression_obj.cu:213: reg:linear is now deprecated in favor of reg:squarederror.\n",
      "[12:05:52] WARNING: ../src/objective/regression_obj.cu:213: reg:linear is now deprecated in favor of reg:squarederror.\n",
      "[12:05:53] WARNING: ../src/objective/regression_obj.cu:213: reg:linear is now deprecated in favor of reg:squarederror.\n",
      "[12:05:53] WARNING: ../src/objective/regression_obj.cu:213: reg:linear is now deprecated in favor of reg:squarederror.\n"
     ]
    },
    {
     "data": {
      "text/plain": [
       "GridSearchCV(cv=5,\n",
       "             estimator=XGBRegressor(base_score=None, booster=None,\n",
       "                                    callbacks=None, colsample_bylevel=None,\n",
       "                                    colsample_bynode=None,\n",
       "                                    colsample_bytree=None,\n",
       "                                    early_stopping_rounds=None,\n",
       "                                    enable_categorical=False, eval_metric=None,\n",
       "                                    feature_types=None, gamma=None, gpu_id=None,\n",
       "                                    grow_policy=None, importance_type=None,\n",
       "                                    interaction_constraints=None,\n",
       "                                    learning_rate=None, max_bin=None,\n",
       "                                    max_cat_threshold=None,\n",
       "                                    max_cat_to_onehot=None, max_delta_step=None,\n",
       "                                    max_depth=None, max_leaves=None,\n",
       "                                    min_child_weight=None, missing=nan,\n",
       "                                    monotone_constraints=None, n_estimators=10,\n",
       "                                    n_jobs=None, num_parallel_tree=None,\n",
       "                                    objective='reg:linear', predictor=None, ...),\n",
       "             param_grid={'max_depth': [10, 12, 15, 18],\n",
       "                         'n_estimators': [10, 15, 20, 25, 30]})"
      ]
     },
     "execution_count": 108,
     "metadata": {},
     "output_type": "execute_result"
    }
   ],
   "source": [
    "model6.fit(X_train,Y_train)"
   ]
  },
  {
   "cell_type": "code",
   "execution_count": 109,
   "id": "c6822f3f-3139-4ae7-be39-1a674780ceb6",
   "metadata": {},
   "outputs": [
    {
     "data": {
      "text/plain": [
       "0.9999999984587007"
      ]
     },
     "execution_count": 109,
     "metadata": {},
     "output_type": "execute_result"
    }
   ],
   "source": [
    "model6.score(X_train,Y_train)"
   ]
  },
  {
   "cell_type": "code",
   "execution_count": 110,
   "id": "27299fbd-231d-4974-9e4d-964548006b54",
   "metadata": {},
   "outputs": [
    {
     "data": {
      "text/plain": [
       "0.9999999984712182"
      ]
     },
     "execution_count": 110,
     "metadata": {},
     "output_type": "execute_result"
    }
   ],
   "source": [
    "model6.score(X_test,Y_test)"
   ]
  },
  {
   "cell_type": "code",
   "execution_count": 111,
   "id": "930f0a71-4a94-419a-b751-1fdb1d900d23",
   "metadata": {},
   "outputs": [
    {
     "data": {
      "text/plain": [
       "{'criterion': 'squared_error', 'max_depth': 8}"
      ]
     },
     "execution_count": 111,
     "metadata": {},
     "output_type": "execute_result"
    }
   ],
   "source": [
    "model5.best_params_"
   ]
  },
  {
   "cell_type": "code",
   "execution_count": 112,
   "id": "ac1d5704-b2f9-4611-b8cc-850ad2334bc2",
   "metadata": {},
   "outputs": [
    {
     "name": "stdout",
     "output_type": "stream",
     "text": [
      "************ Train Evaluation metrics************\n",
      "Train MSE : 2.358583809969053e-07\n",
      "Train RMSE: 0.0004856525311340458\n",
      "Train MAE : 0.000385181503531801\n",
      "Train MAPE: 0.019626041463621773\n",
      "R Square: 0.9999999984587007\n"
     ]
    }
   ],
   "source": [
    "print(\"************ Train Evaluation metrics************\")\n",
    "print(\"Train MSE :\",mean_squared_error(Y_train,model6.predict(X_train)))\n",
    "print(\"Train RMSE:\",np.sqrt(mean_squared_error(Y_train,model6.predict(X_train))))\n",
    "print(\"Train MAE :\",mean_absolute_error(Y_train,model6.predict(X_train)))\n",
    "print(\"Train MAPE:\",np.sqrt(mean_absolute_error(Y_train,model6.predict(X_train))))\n",
    "print(\"R Square:\",r2_score(Y_train,model6.predict(X_train)))"
   ]
  },
  {
   "cell_type": "code",
   "execution_count": 113,
   "id": "e81d821a-81ed-41ef-9726-5065cbe0f73b",
   "metadata": {},
   "outputs": [
    {
     "name": "stdout",
     "output_type": "stream",
     "text": [
      "************ Test Evaluation metrics************\n",
      "Train MSE : 2.3489953226972095e-07\n",
      "Train RMSE: 0.00048466435011224106\n",
      "Train MAE : 0.0003829689256241712\n",
      "Train MAPE: 0.01956959186146127\n",
      "R Square: 0.9999999984712182\n"
     ]
    }
   ],
   "source": [
    "print(\"************ Test Evaluation metrics************\")\n",
    "print(\"Train MSE :\",mean_squared_error(Y_test,model6.predict(X_test)))\n",
    "print(\"Train RMSE:\",np.sqrt(mean_squared_error(Y_test,model6.predict(X_test))))\n",
    "print(\"Train MAE :\",mean_absolute_error(Y_test,model6.predict(X_test)))\n",
    "print(\"Train MAPE:\",np.sqrt(mean_absolute_error(Y_test,model6.predict(X_test))))\n",
    "print(\"R Square:\",r2_score(Y_test,model6.predict(X_test)))"
   ]
  },
  {
   "cell_type": "markdown",
   "id": "9ee11b89-8fc7-4930-9e7e-5ad0975d4512",
   "metadata": {},
   "source": [
    "## Conclusion\n",
    "In this project, we have used four different types of regression-based algorithms like Random Forest Regressor, Gradient Boosting Regressor, and XGBoost Regressor. We have tried Regularization and hyperparameter tuning to determine the best model.\n",
    "\n",
    "All of the models were able to give 100% accuracy but Random Forest and Decision Tree were able to give a MSE of 0.0. Hence Any of these two model can be used to accurately predict the ticket that will be sold by Mobiticket for a perticular ride."
   ]
  },
  {
   "cell_type": "code",
   "execution_count": null,
   "id": "004f91c0-9ea3-4754-ac0a-a6198e835a17",
   "metadata": {},
   "outputs": [],
   "source": []
  }
 ],
 "metadata": {
  "kernelspec": {
   "display_name": "Python 3 (ipykernel)",
   "language": "python",
   "name": "python3"
  },
  "language_info": {
   "codemirror_mode": {
    "name": "ipython",
    "version": 3
   },
   "file_extension": ".py",
   "mimetype": "text/x-python",
   "name": "python",
   "nbconvert_exporter": "python",
   "pygments_lexer": "ipython3",
   "version": "3.9.12"
  }
 },
 "nbformat": 4,
 "nbformat_minor": 5
}
